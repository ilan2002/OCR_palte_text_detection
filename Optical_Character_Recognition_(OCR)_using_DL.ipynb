{
  "metadata": {
    "kernelspec": {
      "display_name": "Python 3",
      "name": "python3"
    },
    "language_info": {
      "name": "python",
      "version": "3.10.12",
      "mimetype": "text/x-python",
      "codemirror_mode": {
        "name": "ipython",
        "version": 3
      },
      "pygments_lexer": "ipython3",
      "nbconvert_exporter": "python",
      "file_extension": ".py"
    },
    "kaggle": {
      "accelerator": "gpu",
      "dataSources": [
        {
          "sourceId": 1972672,
          "sourceType": "datasetVersion",
          "datasetId": 1176843
        },
        {
          "sourceId": 2685160,
          "sourceType": "datasetVersion",
          "datasetId": 1634134
        },
        {
          "sourceId": 5850209,
          "sourceType": "datasetVersion",
          "datasetId": 3364134
        },
        {
          "sourceId": 7225928,
          "sourceType": "datasetVersion",
          "datasetId": 4183058
        },
        {
          "sourceId": 7225986,
          "sourceType": "datasetVersion",
          "datasetId": 4183087
        },
        {
          "sourceId": 7226058,
          "sourceType": "datasetVersion",
          "datasetId": 4183132
        },
        {
          "sourceId": 7226187,
          "sourceType": "datasetVersion",
          "datasetId": 4183218
        },
        {
          "sourceId": 7232441,
          "sourceType": "datasetVersion",
          "datasetId": 4187890
        },
        {
          "sourceId": 7232576,
          "sourceType": "datasetVersion",
          "datasetId": 4187993
        },
        {
          "sourceId": 7233573,
          "sourceType": "datasetVersion",
          "datasetId": 4188664
        },
        {
          "sourceId": 7233620,
          "sourceType": "datasetVersion",
          "datasetId": 4188689
        },
        {
          "sourceId": 7233781,
          "sourceType": "datasetVersion",
          "datasetId": 4188793
        },
        {
          "sourceId": 7233797,
          "sourceType": "datasetVersion",
          "datasetId": 4188797
        },
        {
          "sourceId": 7233809,
          "sourceType": "datasetVersion",
          "datasetId": 4188807
        },
        {
          "sourceId": 7233849,
          "sourceType": "datasetVersion",
          "datasetId": 4188838
        },
        {
          "sourceId": 7233871,
          "sourceType": "datasetVersion",
          "datasetId": 4188854
        },
        {
          "sourceId": 7233888,
          "sourceType": "datasetVersion",
          "datasetId": 4188868
        },
        {
          "sourceId": 7233925,
          "sourceType": "datasetVersion",
          "datasetId": 4188894
        }
      ],
      "dockerImageVersionId": 30626,
      "isInternetEnabled": false,
      "language": "python",
      "sourceType": "notebook",
      "isGpuEnabled": true
    },
    "colab": {
      "name": "Optical Character Recognition (OCR) using DL",
      "provenance": [],
      "gpuType": "T4",
      "include_colab_link": true
    },
    "accelerator": "GPU"
  },
  "nbformat_minor": 0,
  "nbformat": 4,
  "cells": [
    {
      "cell_type": "markdown",
      "metadata": {
        "id": "view-in-github",
        "colab_type": "text"
      },
      "source": [
        "<a href=\"https://colab.research.google.com/github/ilan2002/OCR_palte_text_detection/blob/main/Optical_Character_Recognition_(OCR)_using_DL.ipynb\" target=\"_parent\"><img src=\"https://colab.research.google.com/assets/colab-badge.svg\" alt=\"Open In Colab\"/></a>"
      ]
    },
    {
      "source": [
        "# IMPORTANT: RUN THIS CELL IN ORDER TO IMPORT YOUR KAGGLE DATA SOURCES,\n",
        "# THEN FEEL FREE TO DELETE THIS CELL.\n",
        "# NOTE: THIS NOTEBOOK ENVIRONMENT DIFFERS FROM KAGGLE'S PYTHON\n",
        "# ENVIRONMENT SO THERE MAY BE MISSING LIBRARIES USED BY YOUR\n",
        "# NOTEBOOK.\n",
        "import kagglehub\n",
        "dhruvildave_english_handwritten_characters_dataset_path = kagglehub.dataset_download('dhruvildave/english-handwritten-characters-dataset')\n",
        "preatcher_standard_ocr_dataset_path = kagglehub.dataset_download('preatcher/standard-ocr-dataset')\n",
        "harieh_ocr_dataset_path = kagglehub.dataset_download('harieh/ocr-dataset')\n",
        "\n",
        "print('Data source import complete.')\n"
      ],
      "metadata": {
        "id": "xhrZ2HwMmrTs",
        "outputId": "24d05a3f-fb59-401c-9a50-9a7eebfd6fb7",
        "colab": {
          "base_uri": "https://localhost:8080/"
        }
      },
      "cell_type": "code",
      "outputs": [
        {
          "output_type": "stream",
          "name": "stdout",
          "text": [
            "Warning: Looks like you're using an outdated `kagglehub` version (installed: 0.3.10), please consider upgrading to the latest version (0.3.11).\n",
            "Downloading from https://www.kaggle.com/api/v1/datasets/download/preatcher/standard-ocr-dataset?dataset_version_number=2...\n"
          ]
        },
        {
          "output_type": "stream",
          "name": "stderr",
          "text": [
            "100%|██████████| 46.2M/46.2M [00:03<00:00, 15.6MB/s]"
          ]
        },
        {
          "output_type": "stream",
          "name": "stdout",
          "text": [
            "Extracting files...\n"
          ]
        },
        {
          "output_type": "stream",
          "name": "stderr",
          "text": [
            "\n"
          ]
        },
        {
          "output_type": "stream",
          "name": "stdout",
          "text": [
            "Data source import complete.\n"
          ]
        }
      ],
      "execution_count": 1
    },
    {
      "cell_type": "markdown",
      "source": [
        "# **Introduction**\n",
        "**This project is part of Deep Learning/Computer Vision projects in Benha Faculty of Computers and AI (BFCAI)**\n",
        "\n",
        "*Optical Character Recognition (OCR) is one of the critical tasks of computer vision and Artificial Intelligence, due to variety of languages written, variety of fonts for the same languages. our task is to make OCR and text detection for `English` texts*\n",
        "\n",
        "*- our used dataset is `OCR-Dataset` which contains more than `200000` images for alphanumeric characters in both upper and lowercase*\n",
        "*- our target is to detect **LOWERCASE** characters only in the text which are used in the project*\n",
        "\n",
        "> Dataset was generated using 3475 font styles available in Google Fonts. Each alphanumeric character (uppercase, lowercase and numerals) was generated in each font style and stored in a directory. Total dataset size: 2.1 lakh images for 62 classes [OCR-Dataset](https://www.kaggle.com/datasets/harieh/ocr-dataset/)\n",
        "\n",
        "![](https://www.cheggindia.com/wp-content/uploads/2023/08/ocr-full-form.png)\n",
        "\n",
        "## **Table of Content**\n",
        "### *1. Importing Libraries*\n",
        "### *2. Helper Functions & Hyperparameters*\n",
        "### *3. Reading & preparing the dataset*\n",
        "### *4. Modeling*\n",
        "### *5. Evaluation & Comparison*\n",
        "### *6. Post-processing*\n",
        "### *7. Conclusion*"
      ],
      "metadata": {
        "id": "M8-u2stpmrTu"
      }
    },
    {
      "cell_type": "markdown",
      "source": [
        "# 1) Importing Libraries"
      ],
      "metadata": {
        "id": "uzSd_9SEmrTw"
      }
    },
    {
      "cell_type": "code",
      "source": [
        "# Default libraries, packages for data management, visualization and Computer vision libraries\n",
        "import cv2\n",
        "import numpy as np\n",
        "import pandas as pd\n",
        "import matplotlib.pyplot as plt\n",
        "import seaborn as sns\n",
        "import os\n",
        "\n",
        "# Sklearn package -> function\n",
        "from sklearn.model_selection import train_test_split\n",
        "from sklearn.metrics import classification_report\n",
        "\n",
        "# Tensorflow packages\n",
        "import tensorflow as tf\n",
        "from tensorflow.keras.preprocessing.image import ImageDataGenerator\n",
        "from tensorflow.keras.models import Sequential\n",
        "from tensorflow.keras.layers import (Dense, Dropout, Conv2D, MaxPool2D,\n",
        "                                     BatchNormalization, Flatten, GlobalAveragePooling2D, Input)\n",
        "from tensorflow.keras.optimizers import Adam\n",
        "from tensorflow.keras.callbacks import EarlyStopping, ModelCheckpoint, ReduceLROnPlateau, LearningRateScheduler\n",
        "from tensorflow.keras.applications import EfficientNetB7, MobileNetV2, VGG19, DenseNet121"
      ],
      "metadata": {
        "_uuid": "8f2839f25d086af736a60e9eeb907d3b93b6e0e5",
        "_cell_guid": "b1076dfc-b9ad-4769-8c92-a6c4dae69d19",
        "execution": {
          "iopub.status.busy": "2023-12-19T02:53:27.905527Z",
          "iopub.execute_input": "2023-12-19T02:53:27.906791Z",
          "iopub.status.idle": "2023-12-19T02:53:27.914375Z",
          "shell.execute_reply.started": "2023-12-19T02:53:27.906745Z",
          "shell.execute_reply": "2023-12-19T02:53:27.913232Z"
        },
        "trusted": true,
        "id": "ovpKkNlpmrTw"
      },
      "outputs": [],
      "execution_count": 2
    },
    {
      "cell_type": "markdown",
      "source": [
        "# 2) Helper Functions & Hyperparameters"
      ],
      "metadata": {
        "id": "j1bxVSBMmrTx"
      }
    },
    {
      "cell_type": "markdown",
      "source": [
        "- **This section to define all Helper functions through the notebook and any hyperparameters used later for training the models**"
      ],
      "metadata": {
        "id": "FeF3nlhimrTx"
      }
    },
    {
      "cell_type": "code",
      "source": [
        "def directory_to_df(path : str):\n",
        "    \"\"\"\n",
        "    This function to retrieve all images from targeted folder in a file, the\n",
        "    folder must be divided hirarchally in which each class contains its images individually.\n",
        "    ________________________________________________________________________________________________\n",
        "    Arguments-\n",
        "\n",
        "    path: String -> the main folder directory that contains train/test folders\n",
        "\n",
        "    ________________________________________________________________________________________________\n",
        "    Return-\n",
        "\n",
        "    DataFrame: contains the images path and label corresponding to every image\n",
        "    \"\"\"\n",
        "    df = []\n",
        "    chars = 'abcdefghijklmnopqrstuvwxyz'    # to include lowercase letters only\n",
        "    for cls in os.listdir(path):\n",
        "        cls_path = os.path.join(path,cls)\n",
        "        cls_name = cls.split('_')[0]\n",
        "        if not cls_name in chars:\n",
        "            continue\n",
        "        for img_path in os.listdir(cls_path):\n",
        "            direct = os.path.join(cls_path,img_path)\n",
        "            df.append([direct,cls_name])\n",
        "\n",
        "    df = pd.DataFrame(df, columns=['image','label'])\n",
        "    print(\"The number of samples found:\",len(df))\n",
        "    return df.copy()\n",
        "\n",
        "def read_image(path):\n",
        "    \"\"\"\n",
        "    Read an image from specified directory\n",
        "    _____________________________________________________________\n",
        "    Arguments:\n",
        "\n",
        "    path: String -> a directory of the image\n",
        "    _____________________________________________________________\n",
        "    Return:\n",
        "\n",
        "    image: numpy.array of the image\n",
        "    \"\"\"\n",
        "    image = cv2.imread(path)\n",
        "    image = cv2.cvtColor(image, cv2.COLOR_BGR2RGB)\n",
        "    return image\n",
        "\n",
        "def show_image(img, label=None) -> None:\n",
        "    \"\"\"\n",
        "    This function to display any image\n",
        "    _________________________________________________________\n",
        "    Arguements:\n",
        "\n",
        "    img: numpy.array of N-D\n",
        "\n",
        "    label: String -> the title/label added with the image, Default= None\n",
        "    _________________________________________________________\n",
        "    Return:\n",
        "\n",
        "    plt.imshow()\n",
        "    \"\"\"\n",
        "    plt.imshow(img, cmap='gray')\n",
        "    plt.axis(False)\n",
        "    plt.title(label)\n",
        "    plt.show()\n",
        "\n",
        "def clbck(model_name):\n",
        "    # The function is defined to make the callbacks for training the models\n",
        "    ERLY = EarlyStopping(patience=10, min_delta=0.01, start_from_epoch=10, verbose=1)\n",
        "    RD = ReduceLROnPlateau(patience=5, min_delta=0.01, factor=0.5)\n",
        "    CHK = ModelCheckpoint(f'{model_name}_model.h5',verbose=1, save_best_only=True)\n",
        "    return [ERLY,RD,CHK]"
      ],
      "metadata": {
        "execution": {
          "iopub.status.busy": "2023-12-19T01:07:55.953953Z",
          "iopub.execute_input": "2023-12-19T01:07:55.954406Z",
          "iopub.status.idle": "2023-12-19T01:07:55.966714Z",
          "shell.execute_reply.started": "2023-12-19T01:07:55.954358Z",
          "shell.execute_reply": "2023-12-19T01:07:55.965647Z"
        },
        "trusted": true,
        "id": "2-2jGiGumrTx"
      },
      "outputs": [],
      "execution_count": 3
    },
    {
      "cell_type": "code",
      "source": [
        "# Pre-defined hyperparameters\n",
        "IMG_SHAPE = (32,32)\n",
        "IMG_SIZE = (32,32,3)\n",
        "BATCH_SIZE = 32\n",
        "opt = Adam(learning_rate=0.00001, epsilon=1e-6)\n",
        "loss = 'categorical_crossentropy'\n",
        "EPOCHS = 10"
      ],
      "metadata": {
        "execution": {
          "iopub.status.busy": "2023-12-19T02:55:15.662858Z",
          "iopub.execute_input": "2023-12-19T02:55:15.66325Z",
          "iopub.status.idle": "2023-12-19T02:55:15.670866Z",
          "shell.execute_reply.started": "2023-12-19T02:55:15.663217Z",
          "shell.execute_reply": "2023-12-19T02:55:15.669775Z"
        },
        "trusted": true,
        "id": "sfPnuwHEmrTy"
      },
      "outputs": [],
      "execution_count": 4
    },
    {
      "cell_type": "markdown",
      "source": [
        "# 3) Reading & preparing the dataset"
      ],
      "metadata": {
        "id": "_3H2ht5LmrTz"
      }
    },
    {
      "cell_type": "code",
      "source": [
        "# Reading the dataset in dataframe\n",
        "main_path = '/kaggle/input/ocr-dataset/dataset'\n",
        "df = directory_to_df(main_path)                   # convert the dataset into df of two columns\n",
        "df.head()"
      ],
      "metadata": {
        "execution": {
          "iopub.status.busy": "2023-12-18T21:32:54.866951Z",
          "iopub.execute_input": "2023-12-18T21:32:54.867778Z",
          "iopub.status.idle": "2023-12-18T21:33:03.258053Z",
          "shell.execute_reply.started": "2023-12-18T21:32:54.867747Z",
          "shell.execute_reply": "2023-12-18T21:33:03.257023Z"
        },
        "jupyter": {
          "source_hidden": true
        },
        "trusted": true,
        "id": "pEaz_KksmrTz",
        "outputId": "acd20077-bc38-4522-fa3c-1b42816cb849",
        "colab": {
          "base_uri": "https://localhost:8080/",
          "height": 224
        }
      },
      "outputs": [
        {
          "output_type": "stream",
          "name": "stdout",
          "text": [
            "The number of samples found: 85199\n"
          ]
        },
        {
          "output_type": "execute_result",
          "data": {
            "text/plain": [
              "                                               image label\n",
              "0  /kaggle/input/ocr-dataset/dataset/c_L/C_L_1241...     c\n",
              "1  /kaggle/input/ocr-dataset/dataset/c_L/C_L_3096...     c\n",
              "2  /kaggle/input/ocr-dataset/dataset/c_L/C_L_3184...     c\n",
              "3  /kaggle/input/ocr-dataset/dataset/c_L/C_L_2981...     c\n",
              "4  /kaggle/input/ocr-dataset/dataset/c_L/C_L_1635...     c"
            ],
            "text/html": [
              "\n",
              "  <div id=\"df-e37e279b-393e-4928-91cb-66fb9bf10e1f\" class=\"colab-df-container\">\n",
              "    <div>\n",
              "<style scoped>\n",
              "    .dataframe tbody tr th:only-of-type {\n",
              "        vertical-align: middle;\n",
              "    }\n",
              "\n",
              "    .dataframe tbody tr th {\n",
              "        vertical-align: top;\n",
              "    }\n",
              "\n",
              "    .dataframe thead th {\n",
              "        text-align: right;\n",
              "    }\n",
              "</style>\n",
              "<table border=\"1\" class=\"dataframe\">\n",
              "  <thead>\n",
              "    <tr style=\"text-align: right;\">\n",
              "      <th></th>\n",
              "      <th>image</th>\n",
              "      <th>label</th>\n",
              "    </tr>\n",
              "  </thead>\n",
              "  <tbody>\n",
              "    <tr>\n",
              "      <th>0</th>\n",
              "      <td>/kaggle/input/ocr-dataset/dataset/c_L/C_L_1241...</td>\n",
              "      <td>c</td>\n",
              "    </tr>\n",
              "    <tr>\n",
              "      <th>1</th>\n",
              "      <td>/kaggle/input/ocr-dataset/dataset/c_L/C_L_3096...</td>\n",
              "      <td>c</td>\n",
              "    </tr>\n",
              "    <tr>\n",
              "      <th>2</th>\n",
              "      <td>/kaggle/input/ocr-dataset/dataset/c_L/C_L_3184...</td>\n",
              "      <td>c</td>\n",
              "    </tr>\n",
              "    <tr>\n",
              "      <th>3</th>\n",
              "      <td>/kaggle/input/ocr-dataset/dataset/c_L/C_L_2981...</td>\n",
              "      <td>c</td>\n",
              "    </tr>\n",
              "    <tr>\n",
              "      <th>4</th>\n",
              "      <td>/kaggle/input/ocr-dataset/dataset/c_L/C_L_1635...</td>\n",
              "      <td>c</td>\n",
              "    </tr>\n",
              "  </tbody>\n",
              "</table>\n",
              "</div>\n",
              "    <div class=\"colab-df-buttons\">\n",
              "\n",
              "  <div class=\"colab-df-container\">\n",
              "    <button class=\"colab-df-convert\" onclick=\"convertToInteractive('df-e37e279b-393e-4928-91cb-66fb9bf10e1f')\"\n",
              "            title=\"Convert this dataframe to an interactive table.\"\n",
              "            style=\"display:none;\">\n",
              "\n",
              "  <svg xmlns=\"http://www.w3.org/2000/svg\" height=\"24px\" viewBox=\"0 -960 960 960\">\n",
              "    <path d=\"M120-120v-720h720v720H120Zm60-500h600v-160H180v160Zm220 220h160v-160H400v160Zm0 220h160v-160H400v160ZM180-400h160v-160H180v160Zm440 0h160v-160H620v160ZM180-180h160v-160H180v160Zm440 0h160v-160H620v160Z\"/>\n",
              "  </svg>\n",
              "    </button>\n",
              "\n",
              "  <style>\n",
              "    .colab-df-container {\n",
              "      display:flex;\n",
              "      gap: 12px;\n",
              "    }\n",
              "\n",
              "    .colab-df-convert {\n",
              "      background-color: #E8F0FE;\n",
              "      border: none;\n",
              "      border-radius: 50%;\n",
              "      cursor: pointer;\n",
              "      display: none;\n",
              "      fill: #1967D2;\n",
              "      height: 32px;\n",
              "      padding: 0 0 0 0;\n",
              "      width: 32px;\n",
              "    }\n",
              "\n",
              "    .colab-df-convert:hover {\n",
              "      background-color: #E2EBFA;\n",
              "      box-shadow: 0px 1px 2px rgba(60, 64, 67, 0.3), 0px 1px 3px 1px rgba(60, 64, 67, 0.15);\n",
              "      fill: #174EA6;\n",
              "    }\n",
              "\n",
              "    .colab-df-buttons div {\n",
              "      margin-bottom: 4px;\n",
              "    }\n",
              "\n",
              "    [theme=dark] .colab-df-convert {\n",
              "      background-color: #3B4455;\n",
              "      fill: #D2E3FC;\n",
              "    }\n",
              "\n",
              "    [theme=dark] .colab-df-convert:hover {\n",
              "      background-color: #434B5C;\n",
              "      box-shadow: 0px 1px 3px 1px rgba(0, 0, 0, 0.15);\n",
              "      filter: drop-shadow(0px 1px 2px rgba(0, 0, 0, 0.3));\n",
              "      fill: #FFFFFF;\n",
              "    }\n",
              "  </style>\n",
              "\n",
              "    <script>\n",
              "      const buttonEl =\n",
              "        document.querySelector('#df-e37e279b-393e-4928-91cb-66fb9bf10e1f button.colab-df-convert');\n",
              "      buttonEl.style.display =\n",
              "        google.colab.kernel.accessAllowed ? 'block' : 'none';\n",
              "\n",
              "      async function convertToInteractive(key) {\n",
              "        const element = document.querySelector('#df-e37e279b-393e-4928-91cb-66fb9bf10e1f');\n",
              "        const dataTable =\n",
              "          await google.colab.kernel.invokeFunction('convertToInteractive',\n",
              "                                                    [key], {});\n",
              "        if (!dataTable) return;\n",
              "\n",
              "        const docLinkHtml = 'Like what you see? Visit the ' +\n",
              "          '<a target=\"_blank\" href=https://colab.research.google.com/notebooks/data_table.ipynb>data table notebook</a>'\n",
              "          + ' to learn more about interactive tables.';\n",
              "        element.innerHTML = '';\n",
              "        dataTable['output_type'] = 'display_data';\n",
              "        await google.colab.output.renderOutput(dataTable, element);\n",
              "        const docLink = document.createElement('div');\n",
              "        docLink.innerHTML = docLinkHtml;\n",
              "        element.appendChild(docLink);\n",
              "      }\n",
              "    </script>\n",
              "  </div>\n",
              "\n",
              "\n",
              "<div id=\"df-52635011-55dd-4d09-8356-e09eebe3dc3a\">\n",
              "  <button class=\"colab-df-quickchart\" onclick=\"quickchart('df-52635011-55dd-4d09-8356-e09eebe3dc3a')\"\n",
              "            title=\"Suggest charts\"\n",
              "            style=\"display:none;\">\n",
              "\n",
              "<svg xmlns=\"http://www.w3.org/2000/svg\" height=\"24px\"viewBox=\"0 0 24 24\"\n",
              "     width=\"24px\">\n",
              "    <g>\n",
              "        <path d=\"M19 3H5c-1.1 0-2 .9-2 2v14c0 1.1.9 2 2 2h14c1.1 0 2-.9 2-2V5c0-1.1-.9-2-2-2zM9 17H7v-7h2v7zm4 0h-2V7h2v10zm4 0h-2v-4h2v4z\"/>\n",
              "    </g>\n",
              "</svg>\n",
              "  </button>\n",
              "\n",
              "<style>\n",
              "  .colab-df-quickchart {\n",
              "      --bg-color: #E8F0FE;\n",
              "      --fill-color: #1967D2;\n",
              "      --hover-bg-color: #E2EBFA;\n",
              "      --hover-fill-color: #174EA6;\n",
              "      --disabled-fill-color: #AAA;\n",
              "      --disabled-bg-color: #DDD;\n",
              "  }\n",
              "\n",
              "  [theme=dark] .colab-df-quickchart {\n",
              "      --bg-color: #3B4455;\n",
              "      --fill-color: #D2E3FC;\n",
              "      --hover-bg-color: #434B5C;\n",
              "      --hover-fill-color: #FFFFFF;\n",
              "      --disabled-bg-color: #3B4455;\n",
              "      --disabled-fill-color: #666;\n",
              "  }\n",
              "\n",
              "  .colab-df-quickchart {\n",
              "    background-color: var(--bg-color);\n",
              "    border: none;\n",
              "    border-radius: 50%;\n",
              "    cursor: pointer;\n",
              "    display: none;\n",
              "    fill: var(--fill-color);\n",
              "    height: 32px;\n",
              "    padding: 0;\n",
              "    width: 32px;\n",
              "  }\n",
              "\n",
              "  .colab-df-quickchart:hover {\n",
              "    background-color: var(--hover-bg-color);\n",
              "    box-shadow: 0 1px 2px rgba(60, 64, 67, 0.3), 0 1px 3px 1px rgba(60, 64, 67, 0.15);\n",
              "    fill: var(--button-hover-fill-color);\n",
              "  }\n",
              "\n",
              "  .colab-df-quickchart-complete:disabled,\n",
              "  .colab-df-quickchart-complete:disabled:hover {\n",
              "    background-color: var(--disabled-bg-color);\n",
              "    fill: var(--disabled-fill-color);\n",
              "    box-shadow: none;\n",
              "  }\n",
              "\n",
              "  .colab-df-spinner {\n",
              "    border: 2px solid var(--fill-color);\n",
              "    border-color: transparent;\n",
              "    border-bottom-color: var(--fill-color);\n",
              "    animation:\n",
              "      spin 1s steps(1) infinite;\n",
              "  }\n",
              "\n",
              "  @keyframes spin {\n",
              "    0% {\n",
              "      border-color: transparent;\n",
              "      border-bottom-color: var(--fill-color);\n",
              "      border-left-color: var(--fill-color);\n",
              "    }\n",
              "    20% {\n",
              "      border-color: transparent;\n",
              "      border-left-color: var(--fill-color);\n",
              "      border-top-color: var(--fill-color);\n",
              "    }\n",
              "    30% {\n",
              "      border-color: transparent;\n",
              "      border-left-color: var(--fill-color);\n",
              "      border-top-color: var(--fill-color);\n",
              "      border-right-color: var(--fill-color);\n",
              "    }\n",
              "    40% {\n",
              "      border-color: transparent;\n",
              "      border-right-color: var(--fill-color);\n",
              "      border-top-color: var(--fill-color);\n",
              "    }\n",
              "    60% {\n",
              "      border-color: transparent;\n",
              "      border-right-color: var(--fill-color);\n",
              "    }\n",
              "    80% {\n",
              "      border-color: transparent;\n",
              "      border-right-color: var(--fill-color);\n",
              "      border-bottom-color: var(--fill-color);\n",
              "    }\n",
              "    90% {\n",
              "      border-color: transparent;\n",
              "      border-bottom-color: var(--fill-color);\n",
              "    }\n",
              "  }\n",
              "</style>\n",
              "\n",
              "  <script>\n",
              "    async function quickchart(key) {\n",
              "      const quickchartButtonEl =\n",
              "        document.querySelector('#' + key + ' button');\n",
              "      quickchartButtonEl.disabled = true;  // To prevent multiple clicks.\n",
              "      quickchartButtonEl.classList.add('colab-df-spinner');\n",
              "      try {\n",
              "        const charts = await google.colab.kernel.invokeFunction(\n",
              "            'suggestCharts', [key], {});\n",
              "      } catch (error) {\n",
              "        console.error('Error during call to suggestCharts:', error);\n",
              "      }\n",
              "      quickchartButtonEl.classList.remove('colab-df-spinner');\n",
              "      quickchartButtonEl.classList.add('colab-df-quickchart-complete');\n",
              "    }\n",
              "    (() => {\n",
              "      let quickchartButtonEl =\n",
              "        document.querySelector('#df-52635011-55dd-4d09-8356-e09eebe3dc3a button');\n",
              "      quickchartButtonEl.style.display =\n",
              "        google.colab.kernel.accessAllowed ? 'block' : 'none';\n",
              "    })();\n",
              "  </script>\n",
              "</div>\n",
              "\n",
              "    </div>\n",
              "  </div>\n"
            ],
            "application/vnd.google.colaboratory.intrinsic+json": {
              "type": "dataframe",
              "variable_name": "df",
              "summary": "{\n  \"name\": \"df\",\n  \"rows\": 85199,\n  \"fields\": [\n    {\n      \"column\": \"image\",\n      \"properties\": {\n        \"dtype\": \"string\",\n        \"num_unique_values\": 85199,\n        \"samples\": [\n          \"/kaggle/input/ocr-dataset/dataset/y_L/Y_L_3277.png\",\n          \"/kaggle/input/ocr-dataset/dataset/i_L/I_L_1701.png\",\n          \"/kaggle/input/ocr-dataset/dataset/i_L/I_L_340.png\"\n        ],\n        \"semantic_type\": \"\",\n        \"description\": \"\"\n      }\n    },\n    {\n      \"column\": \"label\",\n      \"properties\": {\n        \"dtype\": \"category\",\n        \"num_unique_values\": 26,\n        \"samples\": [\n          \"r\",\n          \"x\",\n          \"c\"\n        ],\n        \"semantic_type\": \"\",\n        \"description\": \"\"\n      }\n    }\n  ]\n}"
            }
          },
          "metadata": {},
          "execution_count": 5
        }
      ],
      "execution_count": 5
    },
    {
      "cell_type": "code",
      "source": [
        "df['label'].value_counts()"
      ],
      "metadata": {
        "execution": {
          "iopub.status.busy": "2023-12-18T21:33:03.259707Z",
          "iopub.execute_input": "2023-12-18T21:33:03.260114Z",
          "iopub.status.idle": "2023-12-18T21:33:03.284837Z",
          "shell.execute_reply.started": "2023-12-18T21:33:03.260069Z",
          "shell.execute_reply": "2023-12-18T21:33:03.28387Z"
        },
        "jupyter": {
          "source_hidden": true
        },
        "trusted": true,
        "id": "volpfsCymrTz",
        "outputId": "6f500505-774c-434f-8f33-3d311fef6c7a",
        "colab": {
          "base_uri": "https://localhost:8080/",
          "height": 930
        }
      },
      "outputs": [
        {
          "output_type": "execute_result",
          "data": {
            "text/plain": [
              "label\n",
              "r    3284\n",
              "e    3284\n",
              "a    3281\n",
              "m    3281\n",
              "n    3281\n",
              "q    3279\n",
              "u    3278\n",
              "i    3277\n",
              "d    3277\n",
              "l    3276\n",
              "y    3276\n",
              "x    3276\n",
              "s    3276\n",
              "k    3276\n",
              "t    3276\n",
              "h    3275\n",
              "w    3275\n",
              "p    3275\n",
              "g    3275\n",
              "z    3275\n",
              "o    3275\n",
              "f    3275\n",
              "c    3274\n",
              "v    3274\n",
              "j    3274\n",
              "b    3274\n",
              "Name: count, dtype: int64"
            ],
            "text/html": [
              "<div>\n",
              "<style scoped>\n",
              "    .dataframe tbody tr th:only-of-type {\n",
              "        vertical-align: middle;\n",
              "    }\n",
              "\n",
              "    .dataframe tbody tr th {\n",
              "        vertical-align: top;\n",
              "    }\n",
              "\n",
              "    .dataframe thead th {\n",
              "        text-align: right;\n",
              "    }\n",
              "</style>\n",
              "<table border=\"1\" class=\"dataframe\">\n",
              "  <thead>\n",
              "    <tr style=\"text-align: right;\">\n",
              "      <th></th>\n",
              "      <th>count</th>\n",
              "    </tr>\n",
              "    <tr>\n",
              "      <th>label</th>\n",
              "      <th></th>\n",
              "    </tr>\n",
              "  </thead>\n",
              "  <tbody>\n",
              "    <tr>\n",
              "      <th>r</th>\n",
              "      <td>3284</td>\n",
              "    </tr>\n",
              "    <tr>\n",
              "      <th>e</th>\n",
              "      <td>3284</td>\n",
              "    </tr>\n",
              "    <tr>\n",
              "      <th>a</th>\n",
              "      <td>3281</td>\n",
              "    </tr>\n",
              "    <tr>\n",
              "      <th>m</th>\n",
              "      <td>3281</td>\n",
              "    </tr>\n",
              "    <tr>\n",
              "      <th>n</th>\n",
              "      <td>3281</td>\n",
              "    </tr>\n",
              "    <tr>\n",
              "      <th>q</th>\n",
              "      <td>3279</td>\n",
              "    </tr>\n",
              "    <tr>\n",
              "      <th>u</th>\n",
              "      <td>3278</td>\n",
              "    </tr>\n",
              "    <tr>\n",
              "      <th>i</th>\n",
              "      <td>3277</td>\n",
              "    </tr>\n",
              "    <tr>\n",
              "      <th>d</th>\n",
              "      <td>3277</td>\n",
              "    </tr>\n",
              "    <tr>\n",
              "      <th>l</th>\n",
              "      <td>3276</td>\n",
              "    </tr>\n",
              "    <tr>\n",
              "      <th>y</th>\n",
              "      <td>3276</td>\n",
              "    </tr>\n",
              "    <tr>\n",
              "      <th>x</th>\n",
              "      <td>3276</td>\n",
              "    </tr>\n",
              "    <tr>\n",
              "      <th>s</th>\n",
              "      <td>3276</td>\n",
              "    </tr>\n",
              "    <tr>\n",
              "      <th>k</th>\n",
              "      <td>3276</td>\n",
              "    </tr>\n",
              "    <tr>\n",
              "      <th>t</th>\n",
              "      <td>3276</td>\n",
              "    </tr>\n",
              "    <tr>\n",
              "      <th>h</th>\n",
              "      <td>3275</td>\n",
              "    </tr>\n",
              "    <tr>\n",
              "      <th>w</th>\n",
              "      <td>3275</td>\n",
              "    </tr>\n",
              "    <tr>\n",
              "      <th>p</th>\n",
              "      <td>3275</td>\n",
              "    </tr>\n",
              "    <tr>\n",
              "      <th>g</th>\n",
              "      <td>3275</td>\n",
              "    </tr>\n",
              "    <tr>\n",
              "      <th>z</th>\n",
              "      <td>3275</td>\n",
              "    </tr>\n",
              "    <tr>\n",
              "      <th>o</th>\n",
              "      <td>3275</td>\n",
              "    </tr>\n",
              "    <tr>\n",
              "      <th>f</th>\n",
              "      <td>3275</td>\n",
              "    </tr>\n",
              "    <tr>\n",
              "      <th>c</th>\n",
              "      <td>3274</td>\n",
              "    </tr>\n",
              "    <tr>\n",
              "      <th>v</th>\n",
              "      <td>3274</td>\n",
              "    </tr>\n",
              "    <tr>\n",
              "      <th>j</th>\n",
              "      <td>3274</td>\n",
              "    </tr>\n",
              "    <tr>\n",
              "      <th>b</th>\n",
              "      <td>3274</td>\n",
              "    </tr>\n",
              "  </tbody>\n",
              "</table>\n",
              "</div><br><label><b>dtype:</b> int64</label>"
            ]
          },
          "metadata": {},
          "execution_count": 6
        }
      ],
      "execution_count": 6
    },
    {
      "cell_type": "markdown",
      "source": [
        "## 3.1) Splitting the dataframe\n",
        "- The dataframe is splitted to get 70% of the dataset for `training` , and 30% for `testing`\n",
        "- The training set is splitted into `training` and `validation` to enhance the model training"
      ],
      "metadata": {
        "id": "wGItbmgImrTz"
      }
    },
    {
      "cell_type": "code",
      "source": [
        "# Splitting for training & testing (70,30 respectively)\n",
        "X, y = df['image'], df['label']\n",
        "X_train, X_test, y_train, y_test = train_test_split(X,y , test_size=0.30, random_state=41)\n",
        "training_df = pd.concat((X_train,y_train), axis=1)\n",
        "testing_df = pd.concat((X_test,y_test), axis=1)"
      ],
      "metadata": {
        "execution": {
          "iopub.status.busy": "2023-12-18T21:33:03.286015Z",
          "iopub.execute_input": "2023-12-18T21:33:03.286356Z",
          "iopub.status.idle": "2023-12-18T21:33:03.309967Z",
          "shell.execute_reply.started": "2023-12-18T21:33:03.286322Z",
          "shell.execute_reply": "2023-12-18T21:33:03.309266Z"
        },
        "trusted": true,
        "id": "DQTxCMWBmrT0"
      },
      "outputs": [],
      "execution_count": 7
    },
    {
      "cell_type": "code",
      "source": [
        "# Splitting for training & validation (75,25 respectively) -> the training set size = 52.5%\n",
        "X, y = training_df['image'], training_df['label']\n",
        "X_train, X_valid, y_train, y_valid = train_test_split(X,y , test_size=0.25, random_state=41)\n",
        "training_df = pd.concat((X_train,y_train), axis=1)\n",
        "validation_df = pd.concat((X_valid,y_valid), axis=1)"
      ],
      "metadata": {
        "execution": {
          "iopub.status.busy": "2023-12-18T21:33:09.158511Z",
          "iopub.execute_input": "2023-12-18T21:33:09.159434Z",
          "iopub.status.idle": "2023-12-18T21:33:09.183644Z",
          "shell.execute_reply.started": "2023-12-18T21:33:09.159388Z",
          "shell.execute_reply": "2023-12-18T21:33:09.182662Z"
        },
        "trusted": true,
        "id": "yXztykcpmrT0"
      },
      "outputs": [],
      "execution_count": 8
    },
    {
      "cell_type": "markdown",
      "source": [
        "## 3.2) Creating generators\n",
        "- The `ImageDataGenerators` is used for data augmentation, the augmentation is required since the `OCR` can work with different brightness which is not included in the dataset.\n",
        "- Also, it enhance the RAM usage."
      ],
      "metadata": {
        "id": "Yz9UMthamrT0"
      }
    },
    {
      "cell_type": "code",
      "source": [
        "# Creating generators\n",
        "gen = ImageDataGenerator(dtype=np.int32, brightness_range=[0.0,1.0], fill_mode='nearest')\n",
        "gen2 = ImageDataGenerator(dtype=np.int32, fill_mode='nearest')\n",
        "train_gen = gen.flow_from_dataframe(training_df, x_col='image',y_col='label', batch_size=BATCH_SIZE,\n",
        "                                   target_size=IMG_SHAPE)\n",
        "valid_gen = gen2.flow_from_dataframe(validation_df, x_col='image', y_col='label', batch_size=BATCH_SIZE,\n",
        "                                        target_size=IMG_SHAPE, shuffle=False)\n",
        "test_gen = gen2.flow_from_dataframe(testing_df, x_col='image', y_col='label', batch_size=BATCH_SIZE,\n",
        "                                       target_size=IMG_SHAPE, shuffle=False)"
      ],
      "metadata": {
        "execution": {
          "iopub.status.busy": "2023-12-18T21:33:10.963854Z",
          "iopub.execute_input": "2023-12-18T21:33:10.964244Z",
          "iopub.status.idle": "2023-12-18T21:35:28.787249Z",
          "shell.execute_reply.started": "2023-12-18T21:33:10.964213Z",
          "shell.execute_reply": "2023-12-18T21:35:28.786267Z"
        },
        "trusted": true,
        "id": "ABzT7WGUmrT0",
        "outputId": "0322dd17-4205-4775-9507-3f6d58e586c8",
        "colab": {
          "base_uri": "https://localhost:8080/"
        }
      },
      "outputs": [
        {
          "output_type": "stream",
          "name": "stdout",
          "text": [
            "Found 44729 validated image filenames belonging to 26 classes.\n",
            "Found 14910 validated image filenames belonging to 26 classes.\n",
            "Found 25560 validated image filenames belonging to 26 classes.\n"
          ]
        }
      ],
      "execution_count": 9
    },
    {
      "cell_type": "code",
      "source": [
        "# Making a mapping of the classes and the inverse for later processings\n",
        "mapping = train_gen.class_indices\n",
        "mapping_inverse = dict(map(lambda x: tuple(reversed(x)), mapping.items()))"
      ],
      "metadata": {
        "execution": {
          "iopub.status.busy": "2023-12-18T21:35:35.566729Z",
          "iopub.execute_input": "2023-12-18T21:35:35.56711Z",
          "iopub.status.idle": "2023-12-18T21:35:35.572182Z",
          "shell.execute_reply.started": "2023-12-18T21:35:35.567072Z",
          "shell.execute_reply": "2023-12-18T21:35:35.571118Z"
        },
        "trusted": true,
        "id": "reSqjLrumrT0"
      },
      "outputs": [],
      "execution_count": 10
    },
    {
      "cell_type": "code",
      "source": [
        "# Reading a sample from the dataset\n",
        "BATCH_NUM = 10\n",
        "IMG_NUM = 2      # from 0 to 31\n",
        "show_image(train_gen[BATCH_NUM][0][IMG_NUM],mapping_inverse[train_gen[BATCH_NUM][1][IMG_NUM].argmax()])\n",
        "print('The shape of the image:',train_gen[BATCH_NUM][0][IMG_NUM].shape)"
      ],
      "metadata": {
        "execution": {
          "iopub.status.busy": "2023-12-19T01:15:48.267759Z",
          "iopub.execute_input": "2023-12-19T01:15:48.268488Z",
          "iopub.status.idle": "2023-12-19T01:15:48.565776Z",
          "shell.execute_reply.started": "2023-12-19T01:15:48.268456Z",
          "shell.execute_reply": "2023-12-19T01:15:48.564786Z"
        },
        "jupyter": {
          "source_hidden": true
        },
        "trusted": true,
        "id": "foeoufDGmrT0",
        "outputId": "d14c5d29-4eb3-4cf8-f608-76127115fc53",
        "colab": {
          "base_uri": "https://localhost:8080/",
          "height": 446
        }
      },
      "outputs": [
        {
          "output_type": "display_data",
          "data": {
            "text/plain": [
              "<Figure size 640x480 with 1 Axes>"
            ],
            "image/png": "[encoded data removed]"
          },
          "metadata": {}
        },
        {
          "output_type": "stream",
          "name": "stdout",
          "text": [
            "The shape of the image: (32, 32, 3)\n"
          ]
        }
      ],
      "execution_count": 13
    },
    {
      "cell_type": "code",
      "source": [
        "# Reading another sample from the dataset\n",
        "BATCH_NUM = 65\n",
        "IMG_NUM = 30      # from 0 to 31\n",
        "show_image(train_gen[BATCH_NUM][0][IMG_NUM],mapping_inverse[train_gen[BATCH_NUM][1][IMG_NUM].argmax()])\n",
        "print('The shape of the image:',train_gen[BATCH_NUM][0][IMG_NUM].shape)"
      ],
      "metadata": {
        "execution": {
          "iopub.status.busy": "2023-12-19T01:16:07.731829Z",
          "iopub.execute_input": "2023-12-19T01:16:07.732523Z",
          "iopub.status.idle": "2023-12-19T01:16:08.007994Z",
          "shell.execute_reply.started": "2023-12-19T01:16:07.732491Z",
          "shell.execute_reply": "2023-12-19T01:16:08.006845Z"
        },
        "jupyter": {
          "source_hidden": true
        },
        "trusted": true,
        "id": "X_H5SizzmrT1",
        "outputId": "2ec0f92e-5a5c-4435-9b03-0f0722d6e366",
        "colab": {
          "base_uri": "https://localhost:8080/",
          "height": 446
        }
      },
      "outputs": [
        {
          "output_type": "display_data",
          "data": {
            "text/plain": [
              "<Figure size 640x480 with 1 Axes>"
            ],
            "image/png": "[encoded data removed]"
          },
          "metadata": {}
        },
        {
          "output_type": "stream",
          "name": "stdout",
          "text": [
            "The shape of the image: (32, 32, 3)\n"
          ]
        }
      ],
      "execution_count": 17
    },
    {
      "cell_type": "markdown",
      "source": [
        "# 4) Modeling\n",
        "*Our target is to build a **`custom CNN model`** to train on our targeted images for the `OCR` application. in advance, we also will use 4 Pre-trained models as part of `Transfer Learning` and to enhance the performance of the application.*\n",
        "\n",
        "***Our targeted pretrained models are the following:***\n",
        "\n",
        "*- EfficientNetB7*\n",
        "\n",
        "*- MobileNetV2*\n",
        "\n",
        "*- VGG19*\n",
        "\n",
        "*- DenseNet121*\n",
        "\n",
        "***The fine-tuning strategy:*** *using a small value of `LR` of the optimizer `Adam` will make an efficient use of the pre-trained models on our dataset without **FREEZING** the input layers in which better performance is required in our case*"
      ],
      "metadata": {
        "id": "za9Kio54mrT1"
      }
    },
    {
      "cell_type": "markdown",
      "source": [
        "## 4.1) Custom CNN"
      ],
      "metadata": {
        "id": "RuLWf6cwmrT1"
      }
    },
    {
      "cell_type": "code",
      "source": [
        "# Custom CNN\n",
        "CNN_model = Sequential()\n",
        "CNN_model.add(Input(shape=IMG_SIZE, batch_size=BATCH_SIZE, name='Input'))\n",
        "CNN_model.add(Conv2D(3, (3,3), strides=1, activation='relu', padding='same'))\n",
        "CNN_model.add(Conv2D(128, (3,3), activation='relu'))\n",
        "CNN_model.add(MaxPool2D((3,3)))\n",
        "CNN_model.add(Conv2D(256, (3,3), activation='relu'))\n",
        "CNN_model.add(Dropout(0.2))\n",
        "CNN_model.add(Conv2D(256, (3,3), strides=2, activation='relu', padding='same'))\n",
        "CNN_model.add(MaxPool2D((2,2)))\n",
        "CNN_model.add(Conv2D(512, (3,3), activation='relu', padding='same'))\n",
        "CNN_model.add(Dropout(0.2))\n",
        "CNN_model.add(Conv2D(1024, (2,2), activation='relu', padding='same'))\n",
        "CNN_model.add(MaxPool2D(2,2))\n",
        "CNN_model.add(Flatten())\n",
        "CNN_model.add(Dense(1024, activation='selu'))\n",
        "CNN_model.add(Dense(len(mapping), activation='softmax'))"
      ],
      "metadata": {
        "execution": {
          "iopub.status.busy": "2023-12-19T01:23:51.273737Z",
          "iopub.execute_input": "2023-12-19T01:23:51.274103Z",
          "iopub.status.idle": "2023-12-19T01:23:51.387886Z",
          "shell.execute_reply.started": "2023-12-19T01:23:51.274073Z",
          "shell.execute_reply": "2023-12-19T01:23:51.387105Z"
        },
        "trusted": true,
        "id": "cQ3F616TmrT1"
      },
      "outputs": [],
      "execution_count": 18
    },
    {
      "cell_type": "code",
      "source": [
        "CNN_model.summary()"
      ],
      "metadata": {
        "execution": {
          "iopub.status.busy": "2023-12-19T01:23:51.79275Z",
          "iopub.execute_input": "2023-12-19T01:23:51.793129Z",
          "iopub.status.idle": "2023-12-19T01:23:51.833224Z",
          "shell.execute_reply.started": "2023-12-19T01:23:51.793097Z",
          "shell.execute_reply": "2023-12-19T01:23:51.832395Z"
        },
        "trusted": true,
        "id": "BUD1tbkxmrT1",
        "outputId": "7d829f19-e707-478c-da49-91cbff1a7d0a",
        "colab": {
          "base_uri": "https://localhost:8080/",
          "height": 577
        }
      },
      "outputs": [
        {
          "output_type": "display_data",
          "data": {
            "text/plain": [
              "\u001b[1mModel: \"sequential\"\u001b[0m\n"
            ],
            "text/html": [
              "<pre style=\"white-space:pre;overflow-x:auto;line-height:normal;font-family:Menlo,'DejaVu Sans Mono',consolas,'Courier New',monospace\"><span style=\"font-weight: bold\">Model: \"sequential\"</span>\n",
              "</pre>\n"
            ]
          },
          "metadata": {}
        },
        {
          "output_type": "display_data",
          "data": {
            "text/plain": [
              "┏━━━━━━━━━━━━━━━━━━━━━━━━━━━━━━━━━━━━━━┳━━━━━━━━━━━━━━━━━━━━━━━━━━━━━┳━━━━━━━━━━━━━━━━━┓\n",
              "┃\u001b[1m \u001b[0m\u001b[1mLayer (type)                        \u001b[0m\u001b[1m \u001b[0m┃\u001b[1m \u001b[0m\u001b[1mOutput Shape               \u001b[0m\u001b[1m \u001b[0m┃\u001b[1m \u001b[0m\u001b[1m        Param #\u001b[0m\u001b[1m \u001b[0m┃\n",
              "┡━━━━━━━━━━━━━━━━━━━━━━━━━━━━━━━━━━━━━━╇━━━━━━━━━━━━━━━━━━━━━━━━━━━━━╇━━━━━━━━━━━━━━━━━┩\n",
              "│ conv2d (\u001b[38;5;33mConv2D\u001b[0m)                      │ (\u001b[38;5;34m32\u001b[0m, \u001b[38;5;34m32\u001b[0m, \u001b[38;5;34m32\u001b[0m, \u001b[38;5;34m3\u001b[0m)             │              \u001b[38;5;34m84\u001b[0m │\n",
              "├──────────────────────────────────────┼─────────────────────────────┼─────────────────┤\n",
              "│ conv2d_1 (\u001b[38;5;33mConv2D\u001b[0m)                    │ (\u001b[38;5;34m32\u001b[0m, \u001b[38;5;34m30\u001b[0m, \u001b[38;5;34m30\u001b[0m, \u001b[38;5;34m128\u001b[0m)           │           \u001b[38;5;34m3,584\u001b[0m │\n",
              "├──────────────────────────────────────┼─────────────────────────────┼─────────────────┤\n",
              "│ max_pooling2d (\u001b[38;5;33mMaxPooling2D\u001b[0m)         │ (\u001b[38;5;34m32\u001b[0m, \u001b[38;5;34m10\u001b[0m, \u001b[38;5;34m10\u001b[0m, \u001b[38;5;34m128\u001b[0m)           │               \u001b[38;5;34m0\u001b[0m │\n",
              "├──────────────────────────────────────┼─────────────────────────────┼─────────────────┤\n",
              "│ conv2d_2 (\u001b[38;5;33mConv2D\u001b[0m)                    │ (\u001b[38;5;34m32\u001b[0m, \u001b[38;5;34m8\u001b[0m, \u001b[38;5;34m8\u001b[0m, \u001b[38;5;34m256\u001b[0m)             │         \u001b[38;5;34m295,168\u001b[0m │\n",
              "├──────────────────────────────────────┼─────────────────────────────┼─────────────────┤\n",
              "│ dropout (\u001b[38;5;33mDropout\u001b[0m)                    │ (\u001b[38;5;34m32\u001b[0m, \u001b[38;5;34m8\u001b[0m, \u001b[38;5;34m8\u001b[0m, \u001b[38;5;34m256\u001b[0m)             │               \u001b[38;5;34m0\u001b[0m │\n",
              "├──────────────────────────────────────┼─────────────────────────────┼─────────────────┤\n",
              "│ conv2d_3 (\u001b[38;5;33mConv2D\u001b[0m)                    │ (\u001b[38;5;34m32\u001b[0m, \u001b[38;5;34m4\u001b[0m, \u001b[38;5;34m4\u001b[0m, \u001b[38;5;34m256\u001b[0m)             │         \u001b[38;5;34m590,080\u001b[0m │\n",
              "├──────────────────────────────────────┼─────────────────────────────┼─────────────────┤\n",
              "│ max_pooling2d_1 (\u001b[38;5;33mMaxPooling2D\u001b[0m)       │ (\u001b[38;5;34m32\u001b[0m, \u001b[38;5;34m2\u001b[0m, \u001b[38;5;34m2\u001b[0m, \u001b[38;5;34m256\u001b[0m)             │               \u001b[38;5;34m0\u001b[0m │\n",
              "├──────────────────────────────────────┼─────────────────────────────┼─────────────────┤\n",
              "│ conv2d_4 (\u001b[38;5;33mConv2D\u001b[0m)                    │ (\u001b[38;5;34m32\u001b[0m, \u001b[38;5;34m2\u001b[0m, \u001b[38;5;34m2\u001b[0m, \u001b[38;5;34m512\u001b[0m)             │       \u001b[38;5;34m1,180,160\u001b[0m │\n",
              "├──────────────────────────────────────┼─────────────────────────────┼─────────────────┤\n",
              "│ dropout_1 (\u001b[38;5;33mDropout\u001b[0m)                  │ (\u001b[38;5;34m32\u001b[0m, \u001b[38;5;34m2\u001b[0m, \u001b[38;5;34m2\u001b[0m, \u001b[38;5;34m512\u001b[0m)             │               \u001b[38;5;34m0\u001b[0m │\n",
              "├──────────────────────────────────────┼─────────────────────────────┼─────────────────┤\n",
              "│ conv2d_5 (\u001b[38;5;33mConv2D\u001b[0m)                    │ (\u001b[38;5;34m32\u001b[0m, \u001b[38;5;34m2\u001b[0m, \u001b[38;5;34m2\u001b[0m, \u001b[38;5;34m1024\u001b[0m)            │       \u001b[38;5;34m2,098,176\u001b[0m │\n",
              "├──────────────────────────────────────┼─────────────────────────────┼─────────────────┤\n",
              "│ max_pooling2d_2 (\u001b[38;5;33mMaxPooling2D\u001b[0m)       │ (\u001b[38;5;34m32\u001b[0m, \u001b[38;5;34m1\u001b[0m, \u001b[38;5;34m1\u001b[0m, \u001b[38;5;34m1024\u001b[0m)            │               \u001b[38;5;34m0\u001b[0m │\n",
              "├──────────────────────────────────────┼─────────────────────────────┼─────────────────┤\n",
              "│ flatten (\u001b[38;5;33mFlatten\u001b[0m)                    │ (\u001b[38;5;34m32\u001b[0m, \u001b[38;5;34m1024\u001b[0m)                  │               \u001b[38;5;34m0\u001b[0m │\n",
              "├──────────────────────────────────────┼─────────────────────────────┼─────────────────┤\n",
              "│ dense (\u001b[38;5;33mDense\u001b[0m)                        │ (\u001b[38;5;34m32\u001b[0m, \u001b[38;5;34m1024\u001b[0m)                  │       \u001b[38;5;34m1,049,600\u001b[0m │\n",
              "├──────────────────────────────────────┼─────────────────────────────┼─────────────────┤\n",
              "│ dense_1 (\u001b[38;5;33mDense\u001b[0m)                      │ (\u001b[38;5;34m32\u001b[0m, \u001b[38;5;34m26\u001b[0m)                    │          \u001b[38;5;34m26,650\u001b[0m │\n",
              "└──────────────────────────────────────┴─────────────────────────────┴─────────────────┘\n"
            ],
            "text/html": [
              "<pre style=\"white-space:pre;overflow-x:auto;line-height:normal;font-family:Menlo,'DejaVu Sans Mono',consolas,'Courier New',monospace\">┏━━━━━━━━━━━━━━━━━━━━━━━━━━━━━━━━━━━━━━┳━━━━━━━━━━━━━━━━━━━━━━━━━━━━━┳━━━━━━━━━━━━━━━━━┓\n",
              "┃<span style=\"font-weight: bold\"> Layer (type)                         </span>┃<span style=\"font-weight: bold\"> Output Shape                </span>┃<span style=\"font-weight: bold\">         Param # </span>┃\n",
              "┡━━━━━━━━━━━━━━━━━━━━━━━━━━━━━━━━━━━━━━╇━━━━━━━━━━━━━━━━━━━━━━━━━━━━━╇━━━━━━━━━━━━━━━━━┩\n",
              "│ conv2d (<span style=\"color: #0087ff; text-decoration-color: #0087ff\">Conv2D</span>)                      │ (<span style=\"color: #00af00; text-decoration-color: #00af00\">32</span>, <span style=\"color: #00af00; text-decoration-color: #00af00\">32</span>, <span style=\"color: #00af00; text-decoration-color: #00af00\">32</span>, <span style=\"color: #00af00; text-decoration-color: #00af00\">3</span>)             │              <span style=\"color: #00af00; text-decoration-color: #00af00\">84</span> │\n",
              "├──────────────────────────────────────┼─────────────────────────────┼─────────────────┤\n",
              "│ conv2d_1 (<span style=\"color: #0087ff; text-decoration-color: #0087ff\">Conv2D</span>)                    │ (<span style=\"color: #00af00; text-decoration-color: #00af00\">32</span>, <span style=\"color: #00af00; text-decoration-color: #00af00\">30</span>, <span style=\"color: #00af00; text-decoration-color: #00af00\">30</span>, <span style=\"color: #00af00; text-decoration-color: #00af00\">128</span>)           │           <span style=\"color: #00af00; text-decoration-color: #00af00\">3,584</span> │\n",
              "├──────────────────────────────────────┼─────────────────────────────┼─────────────────┤\n",
              "│ max_pooling2d (<span style=\"color: #0087ff; text-decoration-color: #0087ff\">MaxPooling2D</span>)         │ (<span style=\"color: #00af00; text-decoration-color: #00af00\">32</span>, <span style=\"color: #00af00; text-decoration-color: #00af00\">10</span>, <span style=\"color: #00af00; text-decoration-color: #00af00\">10</span>, <span style=\"color: #00af00; text-decoration-color: #00af00\">128</span>)           │               <span style=\"color: #00af00; text-decoration-color: #00af00\">0</span> │\n",
              "├──────────────────────────────────────┼─────────────────────────────┼─────────────────┤\n",
              "│ conv2d_2 (<span style=\"color: #0087ff; text-decoration-color: #0087ff\">Conv2D</span>)                    │ (<span style=\"color: #00af00; text-decoration-color: #00af00\">32</span>, <span style=\"color: #00af00; text-decoration-color: #00af00\">8</span>, <span style=\"color: #00af00; text-decoration-color: #00af00\">8</span>, <span style=\"color: #00af00; text-decoration-color: #00af00\">256</span>)             │         <span style=\"color: #00af00; text-decoration-color: #00af00\">295,168</span> │\n",
              "├──────────────────────────────────────┼─────────────────────────────┼─────────────────┤\n",
              "│ dropout (<span style=\"color: #0087ff; text-decoration-color: #0087ff\">Dropout</span>)                    │ (<span style=\"color: #00af00; text-decoration-color: #00af00\">32</span>, <span style=\"color: #00af00; text-decoration-color: #00af00\">8</span>, <span style=\"color: #00af00; text-decoration-color: #00af00\">8</span>, <span style=\"color: #00af00; text-decoration-color: #00af00\">256</span>)             │               <span style=\"color: #00af00; text-decoration-color: #00af00\">0</span> │\n",
              "├──────────────────────────────────────┼─────────────────────────────┼─────────────────┤\n",
              "│ conv2d_3 (<span style=\"color: #0087ff; text-decoration-color: #0087ff\">Conv2D</span>)                    │ (<span style=\"color: #00af00; text-decoration-color: #00af00\">32</span>, <span style=\"color: #00af00; text-decoration-color: #00af00\">4</span>, <span style=\"color: #00af00; text-decoration-color: #00af00\">4</span>, <span style=\"color: #00af00; text-decoration-color: #00af00\">256</span>)             │         <span style=\"color: #00af00; text-decoration-color: #00af00\">590,080</span> │\n",
              "├──────────────────────────────────────┼─────────────────────────────┼─────────────────┤\n",
              "│ max_pooling2d_1 (<span style=\"color: #0087ff; text-decoration-color: #0087ff\">MaxPooling2D</span>)       │ (<span style=\"color: #00af00; text-decoration-color: #00af00\">32</span>, <span style=\"color: #00af00; text-decoration-color: #00af00\">2</span>, <span style=\"color: #00af00; text-decoration-color: #00af00\">2</span>, <span style=\"color: #00af00; text-decoration-color: #00af00\">256</span>)             │               <span style=\"color: #00af00; text-decoration-color: #00af00\">0</span> │\n",
              "├──────────────────────────────────────┼─────────────────────────────┼─────────────────┤\n",
              "│ conv2d_4 (<span style=\"color: #0087ff; text-decoration-color: #0087ff\">Conv2D</span>)                    │ (<span style=\"color: #00af00; text-decoration-color: #00af00\">32</span>, <span style=\"color: #00af00; text-decoration-color: #00af00\">2</span>, <span style=\"color: #00af00; text-decoration-color: #00af00\">2</span>, <span style=\"color: #00af00; text-decoration-color: #00af00\">512</span>)             │       <span style=\"color: #00af00; text-decoration-color: #00af00\">1,180,160</span> │\n",
              "├──────────────────────────────────────┼─────────────────────────────┼─────────────────┤\n",
              "│ dropout_1 (<span style=\"color: #0087ff; text-decoration-color: #0087ff\">Dropout</span>)                  │ (<span style=\"color: #00af00; text-decoration-color: #00af00\">32</span>, <span style=\"color: #00af00; text-decoration-color: #00af00\">2</span>, <span style=\"color: #00af00; text-decoration-color: #00af00\">2</span>, <span style=\"color: #00af00; text-decoration-color: #00af00\">512</span>)             │               <span style=\"color: #00af00; text-decoration-color: #00af00\">0</span> │\n",
              "├──────────────────────────────────────┼─────────────────────────────┼─────────────────┤\n",
              "│ conv2d_5 (<span style=\"color: #0087ff; text-decoration-color: #0087ff\">Conv2D</span>)                    │ (<span style=\"color: #00af00; text-decoration-color: #00af00\">32</span>, <span style=\"color: #00af00; text-decoration-color: #00af00\">2</span>, <span style=\"color: #00af00; text-decoration-color: #00af00\">2</span>, <span style=\"color: #00af00; text-decoration-color: #00af00\">1024</span>)            │       <span style=\"color: #00af00; text-decoration-color: #00af00\">2,098,176</span> │\n",
              "├──────────────────────────────────────┼─────────────────────────────┼─────────────────┤\n",
              "│ max_pooling2d_2 (<span style=\"color: #0087ff; text-decoration-color: #0087ff\">MaxPooling2D</span>)       │ (<span style=\"color: #00af00; text-decoration-color: #00af00\">32</span>, <span style=\"color: #00af00; text-decoration-color: #00af00\">1</span>, <span style=\"color: #00af00; text-decoration-color: #00af00\">1</span>, <span style=\"color: #00af00; text-decoration-color: #00af00\">1024</span>)            │               <span style=\"color: #00af00; text-decoration-color: #00af00\">0</span> │\n",
              "├──────────────────────────────────────┼─────────────────────────────┼─────────────────┤\n",
              "│ flatten (<span style=\"color: #0087ff; text-decoration-color: #0087ff\">Flatten</span>)                    │ (<span style=\"color: #00af00; text-decoration-color: #00af00\">32</span>, <span style=\"color: #00af00; text-decoration-color: #00af00\">1024</span>)                  │               <span style=\"color: #00af00; text-decoration-color: #00af00\">0</span> │\n",
              "├──────────────────────────────────────┼─────────────────────────────┼─────────────────┤\n",
              "│ dense (<span style=\"color: #0087ff; text-decoration-color: #0087ff\">Dense</span>)                        │ (<span style=\"color: #00af00; text-decoration-color: #00af00\">32</span>, <span style=\"color: #00af00; text-decoration-color: #00af00\">1024</span>)                  │       <span style=\"color: #00af00; text-decoration-color: #00af00\">1,049,600</span> │\n",
              "├──────────────────────────────────────┼─────────────────────────────┼─────────────────┤\n",
              "│ dense_1 (<span style=\"color: #0087ff; text-decoration-color: #0087ff\">Dense</span>)                      │ (<span style=\"color: #00af00; text-decoration-color: #00af00\">32</span>, <span style=\"color: #00af00; text-decoration-color: #00af00\">26</span>)                    │          <span style=\"color: #00af00; text-decoration-color: #00af00\">26,650</span> │\n",
              "└──────────────────────────────────────┴─────────────────────────────┴─────────────────┘\n",
              "</pre>\n"
            ]
          },
          "metadata": {}
        },
        {
          "output_type": "display_data",
          "data": {
            "text/plain": [
              "\u001b[1m Total params: \u001b[0m\u001b[38;5;34m5,243,502\u001b[0m (20.00 MB)\n"
            ],
            "text/html": [
              "<pre style=\"white-space:pre;overflow-x:auto;line-height:normal;font-family:Menlo,'DejaVu Sans Mono',consolas,'Courier New',monospace\"><span style=\"font-weight: bold\"> Total params: </span><span style=\"color: #00af00; text-decoration-color: #00af00\">5,243,502</span> (20.00 MB)\n",
              "</pre>\n"
            ]
          },
          "metadata": {}
        },
        {
          "output_type": "display_data",
          "data": {
            "text/plain": [
              "\u001b[1m Trainable params: \u001b[0m\u001b[38;5;34m5,243,502\u001b[0m (20.00 MB)\n"
            ],
            "text/html": [
              "<pre style=\"white-space:pre;overflow-x:auto;line-height:normal;font-family:Menlo,'DejaVu Sans Mono',consolas,'Courier New',monospace\"><span style=\"font-weight: bold\"> Trainable params: </span><span style=\"color: #00af00; text-decoration-color: #00af00\">5,243,502</span> (20.00 MB)\n",
              "</pre>\n"
            ]
          },
          "metadata": {}
        },
        {
          "output_type": "display_data",
          "data": {
            "text/plain": [
              "\u001b[1m Non-trainable params: \u001b[0m\u001b[38;5;34m0\u001b[0m (0.00 B)\n"
            ],
            "text/html": [
              "<pre style=\"white-space:pre;overflow-x:auto;line-height:normal;font-family:Menlo,'DejaVu Sans Mono',consolas,'Courier New',monospace\"><span style=\"font-weight: bold\"> Non-trainable params: </span><span style=\"color: #00af00; text-decoration-color: #00af00\">0</span> (0.00 B)\n",
              "</pre>\n"
            ]
          },
          "metadata": {}
        }
      ],
      "execution_count": 19
    },
    {
      "cell_type": "code",
      "source": [
        "# Default parameters of adam will be used for the custom CNN\n",
        "CNN_model.compile(optimizer=Adam(), loss=loss, metrics=['accuracy'])"
      ],
      "metadata": {
        "execution": {
          "iopub.status.busy": "2023-12-19T01:24:59.139604Z",
          "iopub.execute_input": "2023-12-19T01:24:59.139997Z",
          "iopub.status.idle": "2023-12-19T01:24:59.152495Z",
          "shell.execute_reply.started": "2023-12-19T01:24:59.139966Z",
          "shell.execute_reply": "2023-12-19T01:24:59.151648Z"
        },
        "trusted": true,
        "id": "O-OkLf6zmrT1"
      },
      "outputs": [],
      "execution_count": 20
    },
    {
      "cell_type": "code",
      "source": [
        "# different num. of epochs will be given for better convergence for the Custom CNN\n",
        "history = CNN_model.fit(train_gen, epochs=20, validation_data=valid_gen, callbacks=clbck(\"CustomCnn\"))"
      ],
      "metadata": {
        "execution": {
          "iopub.status.busy": "2023-12-19T01:26:15.114341Z",
          "iopub.execute_input": "2023-12-19T01:26:15.114725Z",
          "iopub.status.idle": "2023-12-19T01:47:31.160749Z",
          "shell.execute_reply.started": "2023-12-19T01:26:15.114696Z",
          "shell.execute_reply": "2023-12-19T01:47:31.159948Z"
        },
        "collapsed": true,
        "jupyter": {
          "outputs_hidden": true
        },
        "trusted": true,
        "id": "PKKReVqXmrT1",
        "outputId": "4356e349-607c-407b-a5ec-fde50d7cbbdd",
        "colab": {
          "base_uri": "https://localhost:8080/"
        }
      },
      "outputs": [
        {
          "output_type": "stream",
          "name": "stderr",
          "text": [
            "/usr/local/lib/python3.11/dist-packages/keras/src/trainers/data_adapters/py_dataset_adapter.py:121: UserWarning: Your `PyDataset` class should call `super().__init__(**kwargs)` in its constructor. `**kwargs` can include `workers`, `use_multiprocessing`, `max_queue_size`. Do not pass these arguments to `fit()`, as they will be ignored.\n",
            "  self._warn_if_super_not_called()\n"
          ]
        },
        {
          "output_type": "stream",
          "name": "stdout",
          "text": [
            "Epoch 1/20\n",
            "\u001b[1m1398/1398\u001b[0m \u001b[32m━━━━━━━━━━━━━━━━━━━━\u001b[0m\u001b[37m\u001b[0m \u001b[1m0s\u001b[0m 209ms/step - accuracy: 0.2304 - loss: 2.9479\n",
            "Epoch 1: val_loss improved from inf to 1.04027, saving model to CustomCnn_model.h5\n"
          ]
        },
        {
          "output_type": "stream",
          "name": "stderr",
          "text": [
            "WARNING:absl:You are saving your model as an HDF5 file via `model.save()` or `keras.saving.save_model(model)`. This file format is considered legacy. We recommend using instead the native Keras format, e.g. `model.save('my_model.keras')` or `keras.saving.save_model(model, 'my_model.keras')`. \n"
          ]
        },
        {
          "output_type": "stream",
          "name": "stdout",
          "text": [
            "\b\b\b\b\b\b\b\b\b\b\b\b\b\b\b\b\b\b\b\b\b\b\b\b\b\b\b\b\b\b\b\b\b\b\b\b\b\b\b\b\b\b\b\b\b\b\b\b\b\b\b\b\b\b\b\b\b\b\b\b\b\b\b\b\b\b\b\b\b\b\b\b\b\b\b\b\b\b\r\u001b[1m1398/1398\u001b[0m \u001b[32m━━━━━━━━━━━━━━━━━━━━\u001b[0m\u001b[37m\u001b[0m \u001b[1m444s\u001b[0m 311ms/step - accuracy: 0.2305 - loss: 2.9473 - val_accuracy: 0.6897 - val_loss: 1.0403 - learning_rate: 0.0010\n",
            "Epoch 2/20\n",
            "\u001b[1m1398/1398\u001b[0m \u001b[32m━━━━━━━━━━━━━━━━━━━━\u001b[0m\u001b[37m\u001b[0m \u001b[1m0s\u001b[0m 41ms/step - accuracy: 0.6197 - loss: 1.2911\n",
            "Epoch 2: val_loss improved from 1.04027 to 0.80461, saving model to CustomCnn_model.h5\n"
          ]
        },
        {
          "output_type": "stream",
          "name": "stderr",
          "text": [
            "WARNING:absl:You are saving your model as an HDF5 file via `model.save()` or `keras.saving.save_model(model)`. This file format is considered legacy. We recommend using instead the native Keras format, e.g. `model.save('my_model.keras')` or `keras.saving.save_model(model, 'my_model.keras')`. \n"
          ]
        },
        {
          "output_type": "stream",
          "name": "stdout",
          "text": [
            "\b\b\b\b\b\b\b\b\b\b\b\b\b\b\b\b\b\b\b\b\b\b\b\b\b\b\b\b\b\b\b\b\b\b\b\b\b\b\b\b\b\b\b\b\b\b\b\b\b\b\b\b\b\b\b\b\b\b\b\b\b\b\b\b\b\b\b\b\b\b\b\b\b\b\b\b\b\r\u001b[1m1398/1398\u001b[0m \u001b[32m━━━━━━━━━━━━━━━━━━━━\u001b[0m\u001b[37m\u001b[0m \u001b[1m79s\u001b[0m 56ms/step - accuracy: 0.6198 - loss: 1.2911 - val_accuracy: 0.7596 - val_loss: 0.8046 - learning_rate: 0.0010\n",
            "Epoch 3/20\n",
            "\u001b[1m1397/1398\u001b[0m \u001b[32m━━━━━━━━━━━━━━━━━━━\u001b[0m\u001b[37m━\u001b[0m \u001b[1m0s\u001b[0m 42ms/step - accuracy: 0.7604 - loss: 0.8423\n",
            "Epoch 3: val_loss improved from 0.80461 to 0.49362, saving model to CustomCnn_model.h5\n"
          ]
        },
        {
          "output_type": "stream",
          "name": "stderr",
          "text": [
            "WARNING:absl:You are saving your model as an HDF5 file via `model.save()` or `keras.saving.save_model(model)`. This file format is considered legacy. We recommend using instead the native Keras format, e.g. `model.save('my_model.keras')` or `keras.saving.save_model(model, 'my_model.keras')`. \n"
          ]
        },
        {
          "output_type": "stream",
          "name": "stdout",
          "text": [
            "\b\b\b\b\b\b\b\b\b\b\b\b\b\b\b\b\b\b\b\b\b\b\b\b\b\b\b\b\b\b\b\b\b\b\b\b\b\b\b\b\b\b\b\b\b\b\b\b\b\b\b\b\b\b\b\b\b\b\b\b\b\b\b\b\b\b\b\b\b\b\b\b\b\b\b\b\b\r\u001b[1m1398/1398\u001b[0m \u001b[32m━━━━━━━━━━━━━━━━━━━━\u001b[0m\u001b[37m\u001b[0m \u001b[1m75s\u001b[0m 53ms/step - accuracy: 0.7604 - loss: 0.8422 - val_accuracy: 0.8655 - val_loss: 0.4936 - learning_rate: 0.0010\n",
            "Epoch 4/20\n",
            "\u001b[1m1398/1398\u001b[0m \u001b[32m━━━━━━━━━━━━━━━━━━━━\u001b[0m\u001b[37m\u001b[0m \u001b[1m0s\u001b[0m 40ms/step - accuracy: 0.8380 - loss: 0.5780\n",
            "Epoch 4: val_loss improved from 0.49362 to 0.46573, saving model to CustomCnn_model.h5\n"
          ]
        },
        {
          "output_type": "stream",
          "name": "stderr",
          "text": [
            "WARNING:absl:You are saving your model as an HDF5 file via `model.save()` or `keras.saving.save_model(model)`. This file format is considered legacy. We recommend using instead the native Keras format, e.g. `model.save('my_model.keras')` or `keras.saving.save_model(model, 'my_model.keras')`. \n"
          ]
        },
        {
          "output_type": "stream",
          "name": "stdout",
          "text": [
            "\b\b\b\b\b\b\b\b\b\b\b\b\b\b\b\b\b\b\b\b\b\b\b\b\b\b\b\b\b\b\b\b\b\b\b\b\b\b\b\b\b\b\b\b\b\b\b\b\b\b\b\b\b\b\b\b\b\b\b\b\b\b\b\b\b\b\b\b\b\b\b\b\b\b\b\b\b\r\u001b[1m1398/1398\u001b[0m \u001b[32m━━━━━━━━━━━━━━━━━━━━\u001b[0m\u001b[37m\u001b[0m \u001b[1m73s\u001b[0m 52ms/step - accuracy: 0.8381 - loss: 0.5780 - val_accuracy: 0.8864 - val_loss: 0.4657 - learning_rate: 0.0010\n",
            "Epoch 5/20\n",
            "\u001b[1m1397/1398\u001b[0m \u001b[32m━━━━━━━━━━━━━━━━━━━\u001b[0m\u001b[37m━\u001b[0m \u001b[1m0s\u001b[0m 39ms/step - accuracy: 0.8633 - loss: 0.4970\n",
            "Epoch 5: val_loss improved from 0.46573 to 0.38719, saving model to CustomCnn_model.h5\n"
          ]
        },
        {
          "output_type": "stream",
          "name": "stderr",
          "text": [
            "WARNING:absl:You are saving your model as an HDF5 file via `model.save()` or `keras.saving.save_model(model)`. This file format is considered legacy. We recommend using instead the native Keras format, e.g. `model.save('my_model.keras')` or `keras.saving.save_model(model, 'my_model.keras')`. \n"
          ]
        },
        {
          "output_type": "stream",
          "name": "stdout",
          "text": [
            "\b\b\b\b\b\b\b\b\b\b\b\b\b\b\b\b\b\b\b\b\b\b\b\b\b\b\b\b\b\b\b\b\b\b\b\b\b\b\b\b\b\b\b\b\b\b\b\b\b\b\b\b\b\b\b\b\b\b\b\b\b\b\b\b\b\b\b\b\b\b\b\b\b\b\b\b\b\r\u001b[1m1398/1398\u001b[0m \u001b[32m━━━━━━━━━━━━━━━━━━━━\u001b[0m\u001b[37m\u001b[0m \u001b[1m69s\u001b[0m 50ms/step - accuracy: 0.8633 - loss: 0.4970 - val_accuracy: 0.9025 - val_loss: 0.3872 - learning_rate: 0.0010\n",
            "Epoch 6/20\n",
            "\u001b[1m1397/1398\u001b[0m \u001b[32m━━━━━━━━━━━━━━━━━━━\u001b[0m\u001b[37m━\u001b[0m \u001b[1m0s\u001b[0m 43ms/step - accuracy: 0.8836 - loss: 0.4278\n",
            "Epoch 6: val_loss improved from 0.38719 to 0.35797, saving model to CustomCnn_model.h5\n"
          ]
        },
        {
          "output_type": "stream",
          "name": "stderr",
          "text": [
            "WARNING:absl:You are saving your model as an HDF5 file via `model.save()` or `keras.saving.save_model(model)`. This file format is considered legacy. We recommend using instead the native Keras format, e.g. `model.save('my_model.keras')` or `keras.saving.save_model(model, 'my_model.keras')`. \n"
          ]
        },
        {
          "output_type": "stream",
          "name": "stdout",
          "text": [
            "\b\b\b\b\b\b\b\b\b\b\b\b\b\b\b\b\b\b\b\b\b\b\b\b\b\b\b\b\b\b\b\b\b\b\b\b\b\b\b\b\b\b\b\b\b\b\b\b\b\b\b\b\b\b\b\b\b\b\b\b\b\b\b\b\b\b\b\b\b\b\b\b\b\b\b\b\b\r\u001b[1m1398/1398\u001b[0m \u001b[32m━━━━━━━━━━━━━━━━━━━━\u001b[0m\u001b[37m\u001b[0m \u001b[1m78s\u001b[0m 56ms/step - accuracy: 0.8836 - loss: 0.4278 - val_accuracy: 0.9054 - val_loss: 0.3580 - learning_rate: 0.0010\n",
            "Epoch 7/20\n",
            "\u001b[1m1397/1398\u001b[0m \u001b[32m━━━━━━━━━━━━━━━━━━━\u001b[0m\u001b[37m━\u001b[0m \u001b[1m0s\u001b[0m 45ms/step - accuracy: 0.9003 - loss: 0.3634\n",
            "Epoch 7: val_loss did not improve from 0.35797\n",
            "\u001b[1m1398/1398\u001b[0m \u001b[32m━━━━━━━━━━━━━━━━━━━━\u001b[0m\u001b[37m\u001b[0m \u001b[1m81s\u001b[0m 58ms/step - accuracy: 0.9003 - loss: 0.3634 - val_accuracy: 0.9103 - val_loss: 0.3582 - learning_rate: 0.0010\n",
            "Epoch 8/20\n",
            "\u001b[1m1397/1398\u001b[0m \u001b[32m━━━━━━━━━━━━━━━━━━━\u001b[0m\u001b[37m━\u001b[0m \u001b[1m0s\u001b[0m 45ms/step - accuracy: 0.9073 - loss: 0.3435\n",
            "Epoch 8: val_loss did not improve from 0.35797\n",
            "\u001b[1m1398/1398\u001b[0m \u001b[32m━━━━━━━━━━━━━━━━━━━━\u001b[0m\u001b[37m\u001b[0m \u001b[1m80s\u001b[0m 57ms/step - accuracy: 0.9073 - loss: 0.3435 - val_accuracy: 0.8942 - val_loss: 0.4313 - learning_rate: 0.0010\n",
            "Epoch 9/20\n",
            "\u001b[1m1398/1398\u001b[0m \u001b[32m━━━━━━━━━━━━━━━━━━━━\u001b[0m\u001b[37m\u001b[0m \u001b[1m0s\u001b[0m 39ms/step - accuracy: 0.9112 - loss: 0.3319\n",
            "Epoch 9: val_loss did not improve from 0.35797\n",
            "\u001b[1m1398/1398\u001b[0m \u001b[32m━━━━━━━━━━━━━━━━━━━━\u001b[0m\u001b[37m\u001b[0m \u001b[1m76s\u001b[0m 54ms/step - accuracy: 0.9112 - loss: 0.3319 - val_accuracy: 0.9104 - val_loss: 0.3699 - learning_rate: 0.0010\n",
            "Epoch 10/20\n",
            "\u001b[1m1398/1398\u001b[0m \u001b[32m━━━━━━━━━━━━━━━━━━━━\u001b[0m\u001b[37m\u001b[0m \u001b[1m0s\u001b[0m 41ms/step - accuracy: 0.9144 - loss: 0.3228\n",
            "Epoch 10: val_loss improved from 0.35797 to 0.35621, saving model to CustomCnn_model.h5\n"
          ]
        },
        {
          "output_type": "stream",
          "name": "stderr",
          "text": [
            "WARNING:absl:You are saving your model as an HDF5 file via `model.save()` or `keras.saving.save_model(model)`. This file format is considered legacy. We recommend using instead the native Keras format, e.g. `model.save('my_model.keras')` or `keras.saving.save_model(model, 'my_model.keras')`. \n"
          ]
        },
        {
          "output_type": "stream",
          "name": "stdout",
          "text": [
            "\b\b\b\b\b\b\b\b\b\b\b\b\b\b\b\b\b\b\b\b\b\b\b\b\b\b\b\b\b\b\b\b\b\b\b\b\b\b\b\b\b\b\b\b\b\b\b\b\b\b\b\b\b\b\b\b\b\b\b\b\b\b\b\b\b\b\b\b\b\b\b\b\b\b\b\b\b\r\u001b[1m1398/1398\u001b[0m \u001b[32m━━━━━━━━━━━━━━━━━━━━\u001b[0m\u001b[37m\u001b[0m \u001b[1m77s\u001b[0m 55ms/step - accuracy: 0.9144 - loss: 0.3228 - val_accuracy: 0.9199 - val_loss: 0.3562 - learning_rate: 0.0010\n",
            "Epoch 11/20\n",
            "\u001b[1m1398/1398\u001b[0m \u001b[32m━━━━━━━━━━━━━━━━━━━━\u001b[0m\u001b[37m\u001b[0m \u001b[1m0s\u001b[0m 45ms/step - accuracy: 0.9172 - loss: 0.3165\n",
            "Epoch 11: val_loss improved from 0.35621 to 0.31800, saving model to CustomCnn_model.h5\n"
          ]
        },
        {
          "output_type": "stream",
          "name": "stderr",
          "text": [
            "WARNING:absl:You are saving your model as an HDF5 file via `model.save()` or `keras.saving.save_model(model)`. This file format is considered legacy. We recommend using instead the native Keras format, e.g. `model.save('my_model.keras')` or `keras.saving.save_model(model, 'my_model.keras')`. \n"
          ]
        },
        {
          "output_type": "stream",
          "name": "stdout",
          "text": [
            "\b\b\b\b\b\b\b\b\b\b\b\b\b\b\b\b\b\b\b\b\b\b\b\b\b\b\b\b\b\b\b\b\b\b\b\b\b\b\b\b\b\b\b\b\b\b\b\b\b\b\b\b\b\b\b\b\b\b\b\b\b\b\b\b\b\b\b\b\b\b\b\b\b\b\b\b\b\r\u001b[1m1398/1398\u001b[0m \u001b[32m━━━━━━━━━━━━━━━━━━━━\u001b[0m\u001b[37m\u001b[0m \u001b[1m85s\u001b[0m 57ms/step - accuracy: 0.9172 - loss: 0.3165 - val_accuracy: 0.9197 - val_loss: 0.3180 - learning_rate: 0.0010\n",
            "Epoch 12/20\n",
            "\u001b[1m1397/1398\u001b[0m \u001b[32m━━━━━━━━━━━━━━━━━━━\u001b[0m\u001b[37m━\u001b[0m \u001b[1m0s\u001b[0m 39ms/step - accuracy: 0.9078 - loss: 0.3525\n",
            "Epoch 12: val_loss did not improve from 0.31800\n",
            "\u001b[1m1398/1398\u001b[0m \u001b[32m━━━━━━━━━━━━━━━━━━━━\u001b[0m\u001b[37m\u001b[0m \u001b[1m71s\u001b[0m 51ms/step - accuracy: 0.9078 - loss: 0.3525 - val_accuracy: 0.9227 - val_loss: 0.3301 - learning_rate: 0.0010\n",
            "Epoch 13/20\n",
            "\u001b[1m1398/1398\u001b[0m \u001b[32m━━━━━━━━━━━━━━━━━━━━\u001b[0m\u001b[37m\u001b[0m \u001b[1m0s\u001b[0m 42ms/step - accuracy: 0.9226 - loss: 0.2868\n",
            "Epoch 13: val_loss did not improve from 0.31800\n",
            "\u001b[1m1398/1398\u001b[0m \u001b[32m━━━━━━━━━━━━━━━━━━━━\u001b[0m\u001b[37m\u001b[0m \u001b[1m77s\u001b[0m 55ms/step - accuracy: 0.9226 - loss: 0.2868 - val_accuracy: 0.9209 - val_loss: 0.3712 - learning_rate: 0.0010\n",
            "Epoch 14/20\n",
            "\u001b[1m1398/1398\u001b[0m \u001b[32m━━━━━━━━━━━━━━━━━━━━\u001b[0m\u001b[37m\u001b[0m \u001b[1m0s\u001b[0m 45ms/step - accuracy: 0.9195 - loss: 0.3070\n",
            "Epoch 14: val_loss did not improve from 0.31800\n",
            "\u001b[1m1398/1398\u001b[0m \u001b[32m━━━━━━━━━━━━━━━━━━━━\u001b[0m\u001b[37m\u001b[0m \u001b[1m79s\u001b[0m 56ms/step - accuracy: 0.9195 - loss: 0.3070 - val_accuracy: 0.9095 - val_loss: 0.4440 - learning_rate: 0.0010\n",
            "Epoch 15/20\n",
            "\u001b[1m1397/1398\u001b[0m \u001b[32m━━━━━━━━━━━━━━━━━━━\u001b[0m\u001b[37m━\u001b[0m \u001b[1m0s\u001b[0m 41ms/step - accuracy: 0.9165 - loss: 0.3243\n",
            "Epoch 15: val_loss did not improve from 0.31800\n",
            "\u001b[1m1398/1398\u001b[0m \u001b[32m━━━━━━━━━━━━━━━━━━━━\u001b[0m\u001b[37m\u001b[0m \u001b[1m73s\u001b[0m 52ms/step - accuracy: 0.9165 - loss: 0.3243 - val_accuracy: 0.9299 - val_loss: 0.3432 - learning_rate: 0.0010\n",
            "Epoch 16/20\n",
            "\u001b[1m1397/1398\u001b[0m \u001b[32m━━━━━━━━━━━━━━━━━━━\u001b[0m\u001b[37m━\u001b[0m \u001b[1m0s\u001b[0m 40ms/step - accuracy: 0.9234 - loss: 0.2926\n",
            "Epoch 16: val_loss did not improve from 0.31800\n",
            "\u001b[1m1398/1398\u001b[0m \u001b[32m━━━━━━━━━━━━━━━━━━━━\u001b[0m\u001b[37m\u001b[0m \u001b[1m72s\u001b[0m 51ms/step - accuracy: 0.9234 - loss: 0.2926 - val_accuracy: 0.9257 - val_loss: 0.3346 - learning_rate: 0.0010\n",
            "Epoch 17/20\n",
            "\u001b[1m1397/1398\u001b[0m \u001b[32m━━━━━━━━━━━━━━━━━━━\u001b[0m\u001b[37m━\u001b[0m \u001b[1m0s\u001b[0m 43ms/step - accuracy: 0.9377 - loss: 0.2362\n",
            "Epoch 17: val_loss improved from 0.31800 to 0.26008, saving model to CustomCnn_model.h5\n"
          ]
        },
        {
          "output_type": "stream",
          "name": "stderr",
          "text": [
            "WARNING:absl:You are saving your model as an HDF5 file via `model.save()` or `keras.saving.save_model(model)`. This file format is considered legacy. We recommend using instead the native Keras format, e.g. `model.save('my_model.keras')` or `keras.saving.save_model(model, 'my_model.keras')`. \n"
          ]
        },
        {
          "output_type": "stream",
          "name": "stdout",
          "text": [
            "\b\b\b\b\b\b\b\b\b\b\b\b\b\b\b\b\b\b\b\b\b\b\b\b\b\b\b\b\b\b\b\b\b\b\b\b\b\b\b\b\b\b\b\b\b\b\b\b\b\b\b\b\b\b\b\b\b\b\b\b\b\b\b\b\b\b\b\b\b\b\b\b\b\b\b\b\b\r\u001b[1m1398/1398\u001b[0m \u001b[32m━━━━━━━━━━━━━━━━━━━━\u001b[0m\u001b[37m\u001b[0m \u001b[1m76s\u001b[0m 54ms/step - accuracy: 0.9377 - loss: 0.2362 - val_accuracy: 0.9380 - val_loss: 0.2601 - learning_rate: 5.0000e-04\n",
            "Epoch 18/20\n",
            "\u001b[1m1398/1398\u001b[0m \u001b[32m━━━━━━━━━━━━━━━━━━━━\u001b[0m\u001b[37m\u001b[0m \u001b[1m0s\u001b[0m 40ms/step - accuracy: 0.9523 - loss: 0.1690\n",
            "Epoch 18: val_loss did not improve from 0.26008\n",
            "\u001b[1m1398/1398\u001b[0m \u001b[32m━━━━━━━━━━━━━━━━━━━━\u001b[0m\u001b[37m\u001b[0m \u001b[1m77s\u001b[0m 55ms/step - accuracy: 0.9523 - loss: 0.1690 - val_accuracy: 0.9435 - val_loss: 0.2800 - learning_rate: 5.0000e-04\n",
            "Epoch 19/20\n",
            "\u001b[1m1398/1398\u001b[0m \u001b[32m━━━━━━━━━━━━━━━━━━━━\u001b[0m\u001b[37m\u001b[0m \u001b[1m0s\u001b[0m 41ms/step - accuracy: 0.9552 - loss: 0.1628\n",
            "Epoch 19: val_loss did not improve from 0.26008\n",
            "\u001b[1m1398/1398\u001b[0m \u001b[32m━━━━━━━━━━━━━━━━━━━━\u001b[0m\u001b[37m\u001b[0m \u001b[1m75s\u001b[0m 54ms/step - accuracy: 0.9552 - loss: 0.1628 - val_accuracy: 0.9442 - val_loss: 0.2745 - learning_rate: 5.0000e-04\n",
            "Epoch 20/20\n",
            "\u001b[1m1397/1398\u001b[0m \u001b[32m━━━━━━━━━━━━━━━━━━━\u001b[0m\u001b[37m━\u001b[0m \u001b[1m0s\u001b[0m 41ms/step - accuracy: 0.9548 - loss: 0.1622\n",
            "Epoch 20: val_loss did not improve from 0.26008\n",
            "\u001b[1m1398/1398\u001b[0m \u001b[32m━━━━━━━━━━━━━━━━━━━━\u001b[0m\u001b[37m\u001b[0m \u001b[1m70s\u001b[0m 50ms/step - accuracy: 0.9548 - loss: 0.1622 - val_accuracy: 0.9482 - val_loss: 0.3067 - learning_rate: 5.0000e-04\n"
          ]
        }
      ],
      "execution_count": 21
    },
    {
      "cell_type": "code",
      "source": [
        "plt.plot(history.history['loss'], label='Training loss')\n",
        "plt.plot(history.history['val_loss'], label='Validation loss')\n",
        "plt.legend()\n",
        "plt.xlabel('Epochs')\n",
        "plt.ylabel('Loss value')\n",
        "plt.title(\"Custom CNN Training VS. Validation performance\")\n",
        "plt.show()"
      ],
      "metadata": {
        "execution": {
          "iopub.status.busy": "2023-12-19T01:47:31.162591Z",
          "iopub.execute_input": "2023-12-19T01:47:31.162891Z",
          "iopub.status.idle": "2023-12-19T01:47:31.409636Z",
          "shell.execute_reply.started": "2023-12-19T01:47:31.162865Z",
          "shell.execute_reply": "2023-12-19T01:47:31.40879Z"
        },
        "jupyter": {
          "source_hidden": true
        },
        "trusted": true,
        "id": "NZp5jqC9mrT1",
        "outputId": "2d89dd6e-7594-4d39-b5ac-6a05eead436a",
        "colab": {
          "base_uri": "https://localhost:8080/",
          "height": 472
        }
      },
      "outputs": [
        {
          "output_type": "display_data",
          "data": {
            "text/plain": [
              "<Figure size 640x480 with 1 Axes>"
            ],
            "image/png": "[encoded data removed]"
          },
          "metadata": {}
        }
      ],
      "execution_count": 22
    },
    {
      "cell_type": "code",
      "source": [
        "# Making a prediction out of the Custom CNN for the testing set for the evaluation\n",
        "prediction = CNN_model.predict(test_gen)\n",
        "pred = list(map(lambda x: mapping_inverse[np.argmax(x)], prediction))\n",
        "y_test = list(map(lambda x: mapping_inverse[x],test_gen.classes))"
      ],
      "metadata": {
        "execution": {
          "iopub.status.busy": "2023-12-19T01:47:31.410671Z",
          "iopub.execute_input": "2023-12-19T01:47:31.41092Z",
          "iopub.status.idle": "2023-12-19T01:48:18.200732Z",
          "shell.execute_reply.started": "2023-12-19T01:47:31.410898Z",
          "shell.execute_reply": "2023-12-19T01:48:18.199734Z"
        },
        "jupyter": {
          "source_hidden": true
        },
        "trusted": true,
        "id": "WKknSHepmrT1",
        "outputId": "34729310-6990-4ad3-9a8b-3d3543a872d0",
        "colab": {
          "base_uri": "https://localhost:8080/"
        }
      },
      "outputs": [
        {
          "output_type": "stream",
          "name": "stdout",
          "text": [
            "\u001b[1m799/799\u001b[0m \u001b[32m━━━━━━━━━━━━━━━━━━━━\u001b[0m\u001b[37m\u001b[0m \u001b[1m169s\u001b[0m 212ms/step\n"
          ]
        }
      ],
      "execution_count": 23
    },
    {
      "cell_type": "code",
      "source": [
        "print('\\t\\tThe Custom CNN Evaluation Performance')\n",
        "print(classification_report(y_test, pred))"
      ],
      "metadata": {
        "execution": {
          "iopub.status.busy": "2023-12-19T01:48:18.202934Z",
          "iopub.execute_input": "2023-12-19T01:48:18.203256Z",
          "iopub.status.idle": "2023-12-19T01:48:18.488257Z",
          "shell.execute_reply.started": "2023-12-19T01:48:18.203228Z",
          "shell.execute_reply": "2023-12-19T01:48:18.487298Z"
        },
        "trusted": true,
        "id": "-lIkcKZfmrT1",
        "outputId": "dd0a54ef-e8b0-401d-f347-ea9ba2d734e7",
        "colab": {
          "base_uri": "https://localhost:8080/"
        }
      },
      "outputs": [
        {
          "output_type": "stream",
          "name": "stdout",
          "text": [
            "\t\tThe Custom CNN Evaluation Performance\n",
            "              precision    recall  f1-score   support\n",
            "\n",
            "           a       0.95      0.93      0.94       992\n",
            "           b       0.96      0.96      0.96       929\n",
            "           c       0.95      0.93      0.94      1008\n",
            "           d       0.97      0.95      0.96       999\n",
            "           e       0.92      0.93      0.93       973\n",
            "           f       0.98      0.93      0.95      1000\n",
            "           g       0.95      0.93      0.94       957\n",
            "           h       0.95      0.95      0.95       973\n",
            "           i       0.94      0.94      0.94       969\n",
            "           j       0.94      0.97      0.95       931\n",
            "           k       0.94      0.96      0.95      1000\n",
            "           l       0.92      0.94      0.93       974\n",
            "           m       0.94      0.97      0.96      1005\n",
            "           n       0.92      0.93      0.93       951\n",
            "           o       0.93      0.95      0.94       951\n",
            "           p       0.98      0.94      0.96       982\n",
            "           q       0.95      0.94      0.94      1004\n",
            "           r       0.95      0.93      0.94      1005\n",
            "           s       0.95      0.96      0.95      1044\n",
            "           t       0.94      0.94      0.94       980\n",
            "           u       0.94      0.95      0.95       986\n",
            "           v       0.95      0.95      0.95       962\n",
            "           w       0.95      0.97      0.96      1014\n",
            "           x       0.92      0.97      0.95       981\n",
            "           y       0.96      0.95      0.96       981\n",
            "           z       0.97      0.94      0.95      1009\n",
            "\n",
            "    accuracy                           0.95     25560\n",
            "   macro avg       0.95      0.95      0.95     25560\n",
            "weighted avg       0.95      0.95      0.95     25560\n",
            "\n"
          ]
        }
      ],
      "execution_count": 24
    },
    {
      "cell_type": "markdown",
      "source": [
        "## 4.2) EfficientNetB7"
      ],
      "metadata": {
        "id": "46zwbGvfmrT1"
      }
    },
    {
      "cell_type": "code",
      "source": [
        "# EfficientNetB7 input layers will not be FREEZED\n",
        "train_layers = EfficientNetB7(include_top=False, input_shape=IMG_SIZE)\n",
        "EffNetB7 = Sequential()\n",
        "EffNetB7.add(train_layers)\n",
        "EffNetB7.add(Flatten())\n",
        "EffNetB7.add(Dense(1024, activation='selu'))\n",
        "EffNetB7.add(Dropout(0.2))\n",
        "EffNetB7.add(Dense(512, activation='selu'))\n",
        "EffNetB7.add(Dense(len(mapping), activation='softmax'))"
      ],
      "metadata": {
        "execution": {
          "iopub.status.busy": "2023-12-19T01:48:18.489531Z",
          "iopub.execute_input": "2023-12-19T01:48:18.48989Z",
          "iopub.status.idle": "2023-12-19T01:48:30.904917Z",
          "shell.execute_reply.started": "2023-12-19T01:48:18.489855Z",
          "shell.execute_reply": "2023-12-19T01:48:30.903833Z"
        },
        "trusted": true,
        "id": "qDuYsAmnmrT1"
      },
      "outputs": [],
      "execution_count": null
    },
    {
      "cell_type": "code",
      "source": [
        "EffNetB7.summary()"
      ],
      "metadata": {
        "execution": {
          "iopub.status.busy": "2023-12-19T01:48:30.90632Z",
          "iopub.execute_input": "2023-12-19T01:48:30.906641Z",
          "iopub.status.idle": "2023-12-19T01:48:31.001118Z",
          "shell.execute_reply.started": "2023-12-19T01:48:30.906615Z",
          "shell.execute_reply": "2023-12-19T01:48:31.000247Z"
        },
        "trusted": true,
        "id": "wnr1eHKwmrT2"
      },
      "outputs": [],
      "execution_count": null
    },
    {
      "cell_type": "code",
      "source": [
        "# The pre-defined optimizer will be used with too small learning rate\n",
        "EffNetB7.compile(optimizer=opt, loss=loss, metrics=['accuracy'])"
      ],
      "metadata": {
        "execution": {
          "iopub.status.busy": "2023-12-19T01:48:47.68313Z",
          "iopub.execute_input": "2023-12-19T01:48:47.684019Z",
          "iopub.status.idle": "2023-12-19T01:48:47.71204Z",
          "shell.execute_reply.started": "2023-12-19T01:48:47.683984Z",
          "shell.execute_reply": "2023-12-19T01:48:47.711255Z"
        },
        "trusted": true,
        "id": "9_5Dm4SomrT2"
      },
      "outputs": [],
      "execution_count": null
    },
    {
      "cell_type": "code",
      "source": [
        "history2 = EffNetB7.fit(train_gen, epochs=EPOCHS, validation_data=valid_gen, callbacks=clbck(\"EfficientNetB7\"))"
      ],
      "metadata": {
        "execution": {
          "iopub.status.busy": "2023-12-19T01:49:08.109766Z",
          "iopub.execute_input": "2023-12-19T01:49:08.110172Z",
          "iopub.status.idle": "2023-12-19T02:27:39.428156Z",
          "shell.execute_reply.started": "2023-12-19T01:49:08.110141Z",
          "shell.execute_reply": "2023-12-19T02:27:39.427122Z"
        },
        "collapsed": true,
        "jupyter": {
          "outputs_hidden": true
        },
        "trusted": true,
        "id": "9GdGV9fcmrT2"
      },
      "outputs": [],
      "execution_count": null
    },
    {
      "cell_type": "code",
      "source": [
        "plt.plot(history2.history['loss'], label='Training loss')\n",
        "plt.plot(history2.history['val_loss'], label='Validation loss')\n",
        "plt.legend()\n",
        "plt.xlabel('Epochs')\n",
        "plt.ylabel('Loss value')\n",
        "plt.title(\"EfficientNetB7 Training VS. Validation performance\")\n",
        "plt.show()"
      ],
      "metadata": {
        "execution": {
          "iopub.status.busy": "2023-12-19T02:28:26.613117Z",
          "iopub.execute_input": "2023-12-19T02:28:26.613443Z",
          "iopub.status.idle": "2023-12-19T02:28:26.8454Z",
          "shell.execute_reply.started": "2023-12-19T02:28:26.613419Z",
          "shell.execute_reply": "2023-12-19T02:28:26.844514Z"
        },
        "jupyter": {
          "source_hidden": true
        },
        "trusted": true,
        "id": "LIQlpHnHmrT2"
      },
      "outputs": [],
      "execution_count": null
    },
    {
      "cell_type": "code",
      "source": [
        "# Making a prediction out of the EfficientNetB7 for the testing set for the evaluation\n",
        "prediction = EffNetB7.predict(test_gen)\n",
        "pred = list(map(lambda x: mapping_inverse[np.argmax(x)], prediction))\n",
        "y_test = list(map(lambda x: mapping_inverse[x],test_gen.classes))"
      ],
      "metadata": {
        "execution": {
          "iopub.status.busy": "2023-12-19T02:29:03.876537Z",
          "iopub.execute_input": "2023-12-19T02:29:03.877432Z",
          "iopub.status.idle": "2023-12-19T02:29:59.308389Z",
          "shell.execute_reply.started": "2023-12-19T02:29:03.877389Z",
          "shell.execute_reply": "2023-12-19T02:29:59.307573Z"
        },
        "jupyter": {
          "source_hidden": true
        },
        "trusted": true,
        "id": "so-j9uG6mrT2"
      },
      "outputs": [],
      "execution_count": null
    },
    {
      "cell_type": "code",
      "source": [
        "print('\\t     The EfficientNetB7 Evaluation Performance')\n",
        "print(classification_report(y_test, pred))"
      ],
      "metadata": {
        "execution": {
          "iopub.status.busy": "2023-12-19T02:32:02.690344Z",
          "iopub.execute_input": "2023-12-19T02:32:02.690807Z",
          "iopub.status.idle": "2023-12-19T02:32:02.976005Z",
          "shell.execute_reply.started": "2023-12-19T02:32:02.690779Z",
          "shell.execute_reply": "2023-12-19T02:32:02.975099Z"
        },
        "trusted": true,
        "id": "yc_Z0b3hmrT2"
      },
      "outputs": [],
      "execution_count": null
    },
    {
      "cell_type": "markdown",
      "source": [
        "## 4.3) MobileNetV2"
      ],
      "metadata": {
        "id": "Wd-oczSZmrT2"
      }
    },
    {
      "cell_type": "code",
      "source": [
        "# MobileNetV2 input layers will not be FREEZED\n",
        "train_layers = MobileNetV2(include_top=False, input_shape=IMG_SIZE)\n",
        "MobNetV2 = Sequential()\n",
        "MobNetV2.add(train_layers)\n",
        "MobNetV2.add(Flatten())\n",
        "MobNetV2.add(Dense(1024, activation='selu'))\n",
        "MobNetV2.add(Dropout(0.2))\n",
        "MobNetV2.add(Dense(512, activation='selu'))\n",
        "MobNetV2.add(Dense(len(mapping), activation='softmax'))"
      ],
      "metadata": {
        "execution": {
          "iopub.status.busy": "2023-12-19T02:34:47.377299Z",
          "iopub.execute_input": "2023-12-19T02:34:47.378097Z",
          "iopub.status.idle": "2023-12-19T02:34:49.186317Z",
          "shell.execute_reply.started": "2023-12-19T02:34:47.378042Z",
          "shell.execute_reply": "2023-12-19T02:34:49.185115Z"
        },
        "trusted": true,
        "id": "qb2GMukqmrT2"
      },
      "outputs": [],
      "execution_count": null
    },
    {
      "cell_type": "code",
      "source": [
        "MobNetV2.summary()"
      ],
      "metadata": {
        "execution": {
          "iopub.status.busy": "2023-12-19T02:34:49.188324Z",
          "iopub.execute_input": "2023-12-19T02:34:49.189004Z",
          "iopub.status.idle": "2023-12-19T02:34:49.233165Z",
          "shell.execute_reply.started": "2023-12-19T02:34:49.188966Z",
          "shell.execute_reply": "2023-12-19T02:34:49.232307Z"
        },
        "trusted": true,
        "id": "ZRApfOcLmrT2"
      },
      "outputs": [],
      "execution_count": null
    },
    {
      "cell_type": "code",
      "source": [
        "MobNetV2.compile(optimizer=opt, loss=loss, metrics=['accuracy'])"
      ],
      "metadata": {
        "execution": {
          "iopub.status.busy": "2023-12-19T02:35:28.066863Z",
          "iopub.execute_input": "2023-12-19T02:35:28.067275Z",
          "iopub.status.idle": "2023-12-19T02:35:28.082904Z",
          "shell.execute_reply.started": "2023-12-19T02:35:28.067241Z",
          "shell.execute_reply": "2023-12-19T02:35:28.08186Z"
        },
        "trusted": true,
        "id": "axUF-G5EmrT6"
      },
      "outputs": [],
      "execution_count": null
    },
    {
      "cell_type": "code",
      "source": [
        "history3 = MobNetV2.fit(train_gen, epochs=EPOCHS, validation_data=valid_gen, callbacks=clbck('MobileNetV2'))"
      ],
      "metadata": {
        "execution": {
          "iopub.status.busy": "2023-12-19T02:35:28.489815Z",
          "iopub.execute_input": "2023-12-19T02:35:28.490722Z",
          "iopub.status.idle": "2023-12-19T02:48:03.39111Z",
          "shell.execute_reply.started": "2023-12-19T02:35:28.490684Z",
          "shell.execute_reply": "2023-12-19T02:48:03.390232Z"
        },
        "collapsed": true,
        "jupyter": {
          "outputs_hidden": true
        },
        "trusted": true,
        "id": "s2oc_7gHmrT6"
      },
      "outputs": [],
      "execution_count": null
    },
    {
      "cell_type": "code",
      "source": [
        "plt.plot(history3.history['loss'], label='Training loss')\n",
        "plt.plot(history3.history['val_loss'], label='Validation loss')\n",
        "plt.legend()\n",
        "plt.xlabel('Epochs')\n",
        "plt.ylabel('Loss value')\n",
        "plt.title(\"MobileNetV2 Training VS. Validation performance\")\n",
        "plt.show()"
      ],
      "metadata": {
        "execution": {
          "iopub.status.busy": "2023-12-19T02:48:39.732117Z",
          "iopub.execute_input": "2023-12-19T02:48:39.732512Z",
          "iopub.status.idle": "2023-12-19T02:48:40.034029Z",
          "shell.execute_reply.started": "2023-12-19T02:48:39.732479Z",
          "shell.execute_reply": "2023-12-19T02:48:40.033094Z"
        },
        "jupyter": {
          "source_hidden": true
        },
        "trusted": true,
        "id": "qDIM_fBbmrT6"
      },
      "outputs": [],
      "execution_count": null
    },
    {
      "cell_type": "code",
      "source": [
        "# Making a prediction out of the MobileNetV2 for the testing set for the evaluation\n",
        "prediction = MobNetV2.predict(test_gen)\n",
        "pred = list(map(lambda x: mapping_inverse[np.argmax(x)], prediction))\n",
        "y_test = list(map(lambda x: mapping_inverse[x],test_gen.classes))"
      ],
      "metadata": {
        "execution": {
          "iopub.status.busy": "2023-12-19T02:48:57.42788Z",
          "iopub.execute_input": "2023-12-19T02:48:57.428818Z",
          "iopub.status.idle": "2023-12-19T02:49:47.60332Z",
          "shell.execute_reply.started": "2023-12-19T02:48:57.428777Z",
          "shell.execute_reply": "2023-12-19T02:49:47.602252Z"
        },
        "jupyter": {
          "source_hidden": true
        },
        "trusted": true,
        "id": "i4N1DgIfmrT6"
      },
      "outputs": [],
      "execution_count": null
    },
    {
      "cell_type": "code",
      "source": [
        "print('\\t     The MobileNetV2 Evaluation Performance')\n",
        "print(classification_report(y_test, pred))"
      ],
      "metadata": {
        "execution": {
          "iopub.status.busy": "2023-12-19T02:49:48.045361Z",
          "iopub.execute_input": "2023-12-19T02:49:48.045726Z",
          "iopub.status.idle": "2023-12-19T02:49:48.326394Z",
          "shell.execute_reply.started": "2023-12-19T02:49:48.045699Z",
          "shell.execute_reply": "2023-12-19T02:49:48.325508Z"
        },
        "trusted": true,
        "id": "rMNMp1kemrT7"
      },
      "outputs": [],
      "execution_count": null
    },
    {
      "cell_type": "markdown",
      "source": [
        "## 4.4) VGG19"
      ],
      "metadata": {
        "id": "E8XSRKL_mrT7"
      }
    },
    {
      "cell_type": "code",
      "source": [
        "# VGG19 input layers will not be FREEZED\n",
        "train_layers = VGG19(include_top=False, input_shape=IMG_SIZE)\n",
        "VG = Sequential()\n",
        "VG.add(train_layers)\n",
        "VG.add(Flatten())\n",
        "VG.add(Dense(1024, activation='selu'))\n",
        "VG.add(Dense(512, activation='selu'))\n",
        "VG.add(Dense(len(mapping), activation='softmax'))"
      ],
      "metadata": {
        "execution": {
          "iopub.status.busy": "2023-12-19T02:54:33.787573Z",
          "iopub.execute_input": "2023-12-19T02:54:33.787935Z",
          "iopub.status.idle": "2023-12-19T02:54:34.318112Z",
          "shell.execute_reply.started": "2023-12-19T02:54:33.787906Z",
          "shell.execute_reply": "2023-12-19T02:54:34.317281Z"
        },
        "trusted": true,
        "id": "-9J3L2HLmrT7"
      },
      "outputs": [],
      "execution_count": null
    },
    {
      "cell_type": "code",
      "source": [
        "VG.summary()"
      ],
      "metadata": {
        "execution": {
          "iopub.status.busy": "2023-12-19T02:54:43.81561Z",
          "iopub.execute_input": "2023-12-19T02:54:43.815969Z",
          "iopub.status.idle": "2023-12-19T02:54:43.837735Z",
          "shell.execute_reply.started": "2023-12-19T02:54:43.815941Z",
          "shell.execute_reply": "2023-12-19T02:54:43.836877Z"
        },
        "trusted": true,
        "id": "M0URtokfmrT7"
      },
      "outputs": [],
      "execution_count": null
    },
    {
      "cell_type": "code",
      "source": [
        "VG.compile(optimizer=opt, loss=loss, metrics=['accuracy'])"
      ],
      "metadata": {
        "execution": {
          "iopub.status.busy": "2023-12-19T02:55:21.802915Z",
          "iopub.execute_input": "2023-12-19T02:55:21.803765Z",
          "iopub.status.idle": "2023-12-19T02:55:21.814725Z",
          "shell.execute_reply.started": "2023-12-19T02:55:21.803733Z",
          "shell.execute_reply": "2023-12-19T02:55:21.813878Z"
        },
        "trusted": true,
        "id": "Q5obWN-RmrT7"
      },
      "outputs": [],
      "execution_count": null
    },
    {
      "cell_type": "code",
      "source": [
        "history4 = VG.fit(train_gen, validation_data=valid_gen, epochs=EPOCHS, callbacks=clbck('VGG19'))"
      ],
      "metadata": {
        "execution": {
          "iopub.status.busy": "2023-12-19T02:55:22.432742Z",
          "iopub.execute_input": "2023-12-19T02:55:22.433444Z",
          "iopub.status.idle": "2023-12-19T03:06:45.418032Z",
          "shell.execute_reply.started": "2023-12-19T02:55:22.433405Z",
          "shell.execute_reply": "2023-12-19T03:06:45.417222Z"
        },
        "collapsed": true,
        "jupyter": {
          "outputs_hidden": true
        },
        "trusted": true,
        "id": "rWcxF3iOmrT7"
      },
      "outputs": [],
      "execution_count": null
    },
    {
      "cell_type": "code",
      "source": [
        "plt.plot(history4.history['loss'], label='Training loss')\n",
        "plt.plot(history4.history['val_loss'], label='Validation loss')\n",
        "plt.legend()\n",
        "plt.xlabel('Epochs')\n",
        "plt.ylabel('Loss value')\n",
        "plt.title(\"VGG19 Training VS. Validation performance\")\n",
        "plt.show()"
      ],
      "metadata": {
        "execution": {
          "iopub.status.busy": "2023-12-19T03:06:59.223442Z",
          "iopub.execute_input": "2023-12-19T03:06:59.224191Z",
          "iopub.status.idle": "2023-12-19T03:06:59.492313Z",
          "shell.execute_reply.started": "2023-12-19T03:06:59.224158Z",
          "shell.execute_reply": "2023-12-19T03:06:59.491424Z"
        },
        "jupyter": {
          "source_hidden": true
        },
        "trusted": true,
        "id": "0uEWBFhomrT7"
      },
      "outputs": [],
      "execution_count": null
    },
    {
      "cell_type": "code",
      "source": [
        "# Making a prediction out of the VGG19 for the testing set for the evaluation\n",
        "prediction = VG.predict(test_gen)\n",
        "pred = list(map(lambda x: mapping_inverse[np.argmax(x)], prediction))\n",
        "y_test = list(map(lambda x: mapping_inverse[x],test_gen.classes))"
      ],
      "metadata": {
        "execution": {
          "iopub.status.busy": "2023-12-19T03:07:09.378862Z",
          "iopub.execute_input": "2023-12-19T03:07:09.379456Z",
          "iopub.status.idle": "2023-12-19T03:07:57.217521Z",
          "shell.execute_reply.started": "2023-12-19T03:07:09.379406Z",
          "shell.execute_reply": "2023-12-19T03:07:57.216625Z"
        },
        "jupyter": {
          "source_hidden": true
        },
        "trusted": true,
        "id": "b6drKYNGmrT7"
      },
      "outputs": [],
      "execution_count": null
    },
    {
      "cell_type": "code",
      "source": [
        "print('\\t\\tThe VGG19 Evaluation Performance')\n",
        "print(classification_report(y_test, pred))"
      ],
      "metadata": {
        "execution": {
          "iopub.status.busy": "2023-12-19T03:08:21.984662Z",
          "iopub.execute_input": "2023-12-19T03:08:21.985452Z",
          "iopub.status.idle": "2023-12-19T03:08:22.26828Z",
          "shell.execute_reply.started": "2023-12-19T03:08:21.985415Z",
          "shell.execute_reply": "2023-12-19T03:08:22.267362Z"
        },
        "trusted": true,
        "id": "aExLidE1mrT7"
      },
      "outputs": [],
      "execution_count": null
    },
    {
      "cell_type": "markdown",
      "source": [
        "## 4.5) DenseNet121"
      ],
      "metadata": {
        "id": "MjfWdpIgmrT7"
      }
    },
    {
      "cell_type": "code",
      "source": [
        "# DenseNset121 input layers will not be FREEZED\n",
        "train_layers = DenseNet121(include_top=False, input_shape=IMG_SIZE)\n",
        "Den = Sequential()\n",
        "Den.add(train_layers)\n",
        "Den.add(Flatten())\n",
        "Den.add(Dense(1024, activation='selu'))\n",
        "Den.add(Dense(512, activation='selu'))\n",
        "Den.add(Dense(len(mapping), activation='softmax'))"
      ],
      "metadata": {
        "execution": {
          "iopub.status.busy": "2023-12-18T21:36:05.012134Z",
          "iopub.execute_input": "2023-12-18T21:36:05.012496Z",
          "iopub.status.idle": "2023-12-18T21:36:10.229954Z",
          "shell.execute_reply.started": "2023-12-18T21:36:05.012469Z",
          "shell.execute_reply": "2023-12-18T21:36:10.229121Z"
        },
        "trusted": true,
        "id": "b6pgVehbmrT7"
      },
      "outputs": [],
      "execution_count": null
    },
    {
      "cell_type": "code",
      "source": [
        "Den.summary()"
      ],
      "metadata": {
        "execution": {
          "iopub.status.busy": "2023-12-18T21:36:10.231517Z",
          "iopub.execute_input": "2023-12-18T21:36:10.231842Z",
          "iopub.status.idle": "2023-12-18T21:36:10.295818Z",
          "shell.execute_reply.started": "2023-12-18T21:36:10.231814Z",
          "shell.execute_reply": "2023-12-18T21:36:10.295112Z"
        },
        "trusted": true,
        "id": "LFOqWKVAmrT7"
      },
      "outputs": [],
      "execution_count": null
    },
    {
      "cell_type": "code",
      "source": [
        "Den.compile(optimizer=opt, loss=loss, metrics=['accuracy'])"
      ],
      "metadata": {
        "execution": {
          "iopub.status.busy": "2023-12-18T21:36:12.209454Z",
          "iopub.execute_input": "2023-12-18T21:36:12.209916Z",
          "iopub.status.idle": "2023-12-18T21:36:12.2359Z",
          "shell.execute_reply.started": "2023-12-18T21:36:12.209878Z",
          "shell.execute_reply": "2023-12-18T21:36:12.234981Z"
        },
        "trusted": true,
        "id": "M_w7_wu_mrT8"
      },
      "outputs": [],
      "execution_count": null
    },
    {
      "cell_type": "code",
      "source": [
        "history5 = Den.fit(train_gen, validation_data=valid_gen, epochs=10, callbacks=clbck(\"DenseNet121\"))"
      ],
      "metadata": {
        "execution": {
          "iopub.status.busy": "2023-12-18T21:36:14.018539Z",
          "iopub.execute_input": "2023-12-18T21:36:14.019318Z",
          "iopub.status.idle": "2023-12-18T21:59:54.600454Z",
          "shell.execute_reply.started": "2023-12-18T21:36:14.019281Z",
          "shell.execute_reply": "2023-12-18T21:59:54.599591Z"
        },
        "collapsed": true,
        "jupyter": {
          "outputs_hidden": true
        },
        "trusted": true,
        "id": "BVY9c-k7mrT8"
      },
      "outputs": [],
      "execution_count": null
    },
    {
      "cell_type": "code",
      "source": [
        "plt.plot(history5.history['loss'], label='Training loss')\n",
        "plt.plot(history5.history['val_loss'], label='Validation loss')\n",
        "plt.legend()\n",
        "plt.xlabel('Epochs')\n",
        "plt.ylabel('Loss value')\n",
        "plt.title(\"DenseNet121 Training VS. Validation performance\")\n",
        "plt.show()"
      ],
      "metadata": {
        "execution": {
          "iopub.status.busy": "2023-12-18T22:00:05.290753Z",
          "iopub.execute_input": "2023-12-18T22:00:05.291487Z",
          "iopub.status.idle": "2023-12-18T22:00:05.523785Z",
          "shell.execute_reply.started": "2023-12-18T22:00:05.291457Z",
          "shell.execute_reply": "2023-12-18T22:00:05.522865Z"
        },
        "jupyter": {
          "source_hidden": true
        },
        "trusted": true,
        "id": "RBw3N10CmrT8"
      },
      "outputs": [],
      "execution_count": null
    },
    {
      "cell_type": "code",
      "source": [
        "# Making a prediction out of the DenseNet121 for the testing set for the evaluation\n",
        "prediction = Den.predict(test_gen)\n",
        "pred = list(map(lambda x: mapping_inverse[np.argmax(x)], prediction))\n",
        "y_test = list(map(lambda x: mapping_inverse[x],test_gen.classes))"
      ],
      "metadata": {
        "execution": {
          "iopub.status.busy": "2023-12-19T03:10:41.677155Z",
          "iopub.execute_input": "2023-12-19T03:10:41.677906Z",
          "iopub.status.idle": "2023-12-19T03:11:05.869647Z",
          "shell.execute_reply.started": "2023-12-19T03:10:41.677873Z",
          "shell.execute_reply": "2023-12-19T03:11:05.868788Z"
        },
        "jupyter": {
          "source_hidden": true
        },
        "trusted": true,
        "id": "N06W6Af2mrT8"
      },
      "outputs": [],
      "execution_count": null
    },
    {
      "cell_type": "code",
      "source": [
        "print('\\t\\tThe DenseNet121 Evaluation Performance')\n",
        "print(classification_report(y_test, pred))"
      ],
      "metadata": {
        "execution": {
          "iopub.status.busy": "2023-12-19T03:11:32.362628Z",
          "iopub.execute_input": "2023-12-19T03:11:32.363346Z",
          "iopub.status.idle": "2023-12-19T03:11:32.644801Z",
          "shell.execute_reply.started": "2023-12-19T03:11:32.363311Z",
          "shell.execute_reply": "2023-12-19T03:11:32.643832Z"
        },
        "trusted": true,
        "id": "vhmmDmjCmrT8"
      },
      "outputs": [],
      "execution_count": null
    },
    {
      "cell_type": "markdown",
      "source": [
        "# 5) Evaluation & Comparison"
      ],
      "metadata": {
        "id": "rf1xm3NtmrT8"
      }
    },
    {
      "cell_type": "code",
      "source": [
        "vals = {'accuracy':[0.95,0.93,0.71,0.96,0.95], 'precision':[0.96,0.94,0.72,0.96,0.95],\n",
        "       'recall':[0.95,0.93,0.71,0.96,0.95], 'F1-Score':[0.95,0.93,0.71,0.96,0.95]}\n",
        "results = pd.DataFrame(vals, index=['Custom CNN','EfficientNetB7','MobileNetV7','VGG19',\n",
        "                                   'DenseNet121'])\n",
        "\n",
        "print(\"\\t\\tThe Evaluation results of CNN/Pre-trained models\")\n",
        "print(results)"
      ],
      "metadata": {
        "execution": {
          "iopub.status.busy": "2023-12-19T03:17:17.413462Z",
          "iopub.execute_input": "2023-12-19T03:17:17.414201Z",
          "iopub.status.idle": "2023-12-19T03:17:17.42468Z",
          "shell.execute_reply.started": "2023-12-19T03:17:17.414168Z",
          "shell.execute_reply": "2023-12-19T03:17:17.42364Z"
        },
        "jupyter": {
          "source_hidden": true
        },
        "trusted": true,
        "id": "aEYSQHwGmrT8"
      },
      "outputs": [],
      "execution_count": null
    },
    {
      "cell_type": "code",
      "source": [
        "sns.barplot(data=results, x=results.index, y='accuracy')\n",
        "plt.xticks(rotation=45)\n",
        "plt.xlabel('Models')\n",
        "plt.title(\"Models Accuracy\")\n",
        "plt.show()"
      ],
      "metadata": {
        "execution": {
          "iopub.status.busy": "2023-12-19T03:17:35.477516Z",
          "iopub.execute_input": "2023-12-19T03:17:35.47788Z",
          "iopub.status.idle": "2023-12-19T03:17:35.735343Z",
          "shell.execute_reply.started": "2023-12-19T03:17:35.477849Z",
          "shell.execute_reply": "2023-12-19T03:17:35.734386Z"
        },
        "jupyter": {
          "source_hidden": true
        },
        "trusted": true,
        "id": "8I2Ac3ckmrT8"
      },
      "outputs": [],
      "execution_count": null
    },
    {
      "cell_type": "code",
      "source": [
        "sns.barplot(data=results, x=results.index, y='precision')\n",
        "plt.xticks(rotation=45)\n",
        "plt.xlabel('Models')\n",
        "plt.title(\"Models Precision\")\n",
        "plt.show()"
      ],
      "metadata": {
        "execution": {
          "iopub.status.busy": "2023-12-19T03:17:47.699301Z",
          "iopub.execute_input": "2023-12-19T03:17:47.699688Z",
          "iopub.status.idle": "2023-12-19T03:17:47.958616Z",
          "shell.execute_reply.started": "2023-12-19T03:17:47.699656Z",
          "shell.execute_reply": "2023-12-19T03:17:47.957727Z"
        },
        "jupyter": {
          "source_hidden": true
        },
        "trusted": true,
        "id": "yYCJ-cuImrT8"
      },
      "outputs": [],
      "execution_count": null
    },
    {
      "cell_type": "code",
      "source": [
        "sns.barplot(data=results, x=results.index, y='recall')\n",
        "plt.xticks(rotation=45)\n",
        "plt.xlabel('Models')\n",
        "plt.title(\"Models Recall\")\n",
        "plt.show()"
      ],
      "metadata": {
        "execution": {
          "iopub.status.busy": "2023-12-19T03:18:04.001023Z",
          "iopub.execute_input": "2023-12-19T03:18:04.001432Z",
          "iopub.status.idle": "2023-12-19T03:18:04.269453Z",
          "shell.execute_reply.started": "2023-12-19T03:18:04.0014Z",
          "shell.execute_reply": "2023-12-19T03:18:04.268493Z"
        },
        "jupyter": {
          "source_hidden": true
        },
        "trusted": true,
        "id": "8861QLDYmrT8"
      },
      "outputs": [],
      "execution_count": null
    },
    {
      "cell_type": "code",
      "source": [
        "sns.barplot(data=results, x=results.index, y='F1-Score')\n",
        "plt.xticks(rotation=45)\n",
        "plt.xlabel('Models')\n",
        "plt.title(\"Models F1-Score\")\n",
        "plt.show()"
      ],
      "metadata": {
        "execution": {
          "iopub.status.busy": "2023-12-19T03:18:11.535433Z",
          "iopub.execute_input": "2023-12-19T03:18:11.536261Z",
          "iopub.status.idle": "2023-12-19T03:18:11.72862Z",
          "shell.execute_reply.started": "2023-12-19T03:18:11.536225Z",
          "shell.execute_reply": "2023-12-19T03:18:11.72769Z"
        },
        "jupyter": {
          "source_hidden": true
        },
        "trusted": true,
        "id": "9DL6HBJ1mrT9"
      },
      "outputs": [],
      "execution_count": null
    },
    {
      "cell_type": "markdown",
      "source": [
        "**- `VGG19` shows an outstanding performance amongst all models.**\n",
        "\n",
        "**- Due technical reasons in the next section `Post-processing`, it shows that `DenseNet121` has better performance than `VGG19` on external images, which will be used.**\n",
        "\n",
        "**- The `Custom CNN` shows an excellent performance on the testing set on few number of epochs, it can be enhanced with more epochs and maybe data augmentation**"
      ],
      "metadata": {
        "id": "KuKHLAr9mrT9"
      }
    },
    {
      "cell_type": "markdown",
      "source": [
        "# 6) Post-Processing\n",
        "#### **THIS SECTION IS ABOUT `Computer Vision` TECHNIQUES**\n",
        "\n",
        "*the image will be taken from the user/externally to be processed and input into our model. some **LOW LEVEL COMPUTER VISION TECHNIQUES** are used in order to enhance the input image, wheter it is text or handwritten, these techniques are the following:*\n",
        "\n",
        "- **Binarization:** The binarization function applies Otsu's binarization to the grayscale image, producing a binary image.\n",
        "\n",
        "- **Dilate:** The dilate function performs morphological dilation on the binary image. The degree of dilation is adjusted based on whether processing `words` or `characters`.\n",
        "\n",
        "- **Find Rectangles:** The find_rect function identifies bounding rectangles in the binary image, sorting them based on their **x-coordinate (From Left-to-Right)**.\n",
        "\n",
        "- **Extract Characters:** The extract function uses the aforementioned techniques to extract characters from the image. It identifies words **FIRST**, then extracts characters from each word, and with the use of the pre-trained deep learning model to recognize each character."
      ],
      "metadata": {
        "id": "VmTNGIo8mrT9"
      }
    },
    {
      "cell_type": "code",
      "source": [
        "# Computer Vision - Low level techniques\n",
        "def load_model():\n",
        "    model_path = '/kaggle/working/DenseNet121_model.h5'\n",
        "    model = tf.keras.saving.load_model(model_path)\n",
        "    return model\n",
        "\n",
        "def convert_2_gray(image):\n",
        "    gray_image = cv2.cvtColor(image, cv2.COLOR_RGB2GRAY)\n",
        "    return gray_image\n",
        "\n",
        "def binarization(image):\n",
        "    img, thresh = cv2.threshold(image, 0,255, cv2.THRESH_OTSU|cv2.THRESH_BINARY_INV)\n",
        "    return img, thresh\n",
        "\n",
        "def dilate(image, words= False):\n",
        "    img = image.copy()\n",
        "    m = 3\n",
        "    n = m - 2                   # n less than m for Vertical structuring element to dilate chars\n",
        "    itrs = 4\n",
        "    if words:\n",
        "        m = 6\n",
        "        n = m\n",
        "        itrs = 3\n",
        "    rect_kernel = cv2.getStructuringElement(cv2.MORPH_RECT, (n, m))\n",
        "    dilation = cv2.dilate(img, rect_kernel, iterations = itrs)\n",
        "    return dilation\n",
        "\n",
        "def find_rect(image):\n",
        "    contours, hierarchy = cv2.findContours(image, cv2.RETR_EXTERNAL, cv2.CHAIN_APPROX_NONE)\n",
        "    rects = []\n",
        "\n",
        "    for cnt in contours:\n",
        "        x,y,w,h = cv2.boundingRect(cnt)  # Extract the bounding rectangle coordinates of each countour\n",
        "        rects.append([x,y,w,h])\n",
        "\n",
        "    sorted_rects = list(sorted(rects, key=lambda x: x[0])) # Sorting the rects from Left-to-Right\n",
        "    return sorted_rects\n",
        "\n",
        "def extract(image):\n",
        "    model = load_model()\n",
        "    chars = []              # a list to store recognized characters\n",
        "\n",
        "    image_cpy = image.copy()\n",
        "    _, bin_img = binarization(convert_2_gray(image_cpy))\n",
        "    full_dil_img = dilate(bin_img,words=True)\n",
        "    words = find_rect(full_dil_img)                       # Recognized words within the image\n",
        "    del _, bin_img, full_dil_img                          # for better memory usage\n",
        "\n",
        "    for word in words:\n",
        "        x,y,w,h = word                                    # coordinates of the word\n",
        "        img = image_cpy[y:y+h, x:x+w]\n",
        "\n",
        "        _, bin_img = binarization(convert_2_gray(img))\n",
        "        dil_img = dilate(bin_img)\n",
        "        char_parts = find_rect(dil_img)                     # Recognized chars withtin the word\n",
        "        cv2.rectangle(image, (x,y),(x+w,y+h), (0,255,0), 3) # draw a green rectangle around the word\n",
        "\n",
        "        del _, bin_img, dil_img\n",
        "\n",
        "        for char in char_parts:\n",
        "            x,y,w,h = char\n",
        "            ch = img[y:y+h, x:x+w]\n",
        "\n",
        "            empty_img = np.full((32,32,1),255, dtype=np.uint8) # a white image used for resize with filling\n",
        "            x,y = 3,3                                          # starting indecies\n",
        "            resized = cv2.resize(ch, (16,22), interpolation=cv2.INTER_CUBIC)\n",
        "            gray = convert_2_gray(resized)\n",
        "            empty_img[y:y+22, x:x+16,0] = gray.copy()          # integrate the recognized char into the white image\n",
        "            gray = cv2.cvtColor(empty_img, cv2.COLOR_GRAY2RGB)\n",
        "            gray = gray.astype(np.int32)\n",
        "\n",
        "            predicted = mapping_inverse[np.argmax(model.predict(np.array([gray]), verbose=-1))]\n",
        "            chars.append(predicted)                            # append the character into the list\n",
        "\n",
        "            del ch, resized, gray, empty_img\n",
        "        chars.append(' ')  # at the end of each iteration (end of word) append a space\n",
        "\n",
        "    del model\n",
        "    show_image(image)\n",
        "    return ''.join(chars[:-1])"
      ],
      "metadata": {
        "execution": {
          "iopub.status.busy": "2023-12-19T03:49:30.063771Z",
          "iopub.execute_input": "2023-12-19T03:49:30.064185Z",
          "iopub.status.idle": "2023-12-19T03:49:30.082173Z",
          "shell.execute_reply.started": "2023-12-19T03:49:30.064153Z",
          "shell.execute_reply": "2023-12-19T03:49:30.081229Z"
        },
        "trusted": true,
        "id": "HZbqlqnVmrT9"
      },
      "outputs": [],
      "execution_count": null
    },
    {
      "cell_type": "markdown",
      "source": [
        "## 6.1) Testing"
      ],
      "metadata": {
        "id": "kaUIcMyNmrT9"
      }
    },
    {
      "cell_type": "code",
      "source": [
        "# Testing 1\n",
        "img = read_image('/kaggle/input/myimage16/Screenshot 2023-12-19 024132.png')\n",
        "text = extract(img)\n",
        "print('-->',text)"
      ],
      "metadata": {
        "execution": {
          "iopub.status.busy": "2023-12-19T03:47:17.726843Z",
          "iopub.execute_input": "2023-12-19T03:47:17.727723Z",
          "iopub.status.idle": "2023-12-19T03:47:27.256848Z",
          "shell.execute_reply.started": "2023-12-19T03:47:17.727687Z",
          "shell.execute_reply": "2023-12-19T03:47:27.255624Z"
        },
        "trusted": true,
        "id": "7NMhgo3ymrT9"
      },
      "outputs": [],
      "execution_count": null
    },
    {
      "cell_type": "code",
      "source": [
        "# Testing 2\n",
        "img2 = read_image('/kaggle/input/myimage15/Screenshot 2023-12-19 023610.png')\n",
        "text = extract(img2)\n",
        "print('-->',text)"
      ],
      "metadata": {
        "execution": {
          "iopub.status.busy": "2023-12-19T03:49:34.174736Z",
          "iopub.execute_input": "2023-12-19T03:49:34.17554Z",
          "iopub.status.idle": "2023-12-19T03:49:42.519737Z",
          "shell.execute_reply.started": "2023-12-19T03:49:34.175502Z",
          "shell.execute_reply": "2023-12-19T03:49:42.518801Z"
        },
        "trusted": true,
        "id": "L7Ul6-MEmrT9"
      },
      "outputs": [],
      "execution_count": null
    },
    {
      "cell_type": "code",
      "source": [
        "# Testing 3\n",
        "img3 = read_image('/kaggle/input/myimage12/Screenshot 2023-12-19 021326.png')\n",
        "text = extract(img3)\n",
        "print('-->',text)"
      ],
      "metadata": {
        "execution": {
          "iopub.status.busy": "2023-12-19T03:50:18.123217Z",
          "iopub.execute_input": "2023-12-19T03:50:18.123588Z",
          "iopub.status.idle": "2023-12-19T03:50:26.644924Z",
          "shell.execute_reply.started": "2023-12-19T03:50:18.123556Z",
          "shell.execute_reply": "2023-12-19T03:50:26.642238Z"
        },
        "trusted": true,
        "id": "U_ZtQXVgmrT9"
      },
      "outputs": [],
      "execution_count": null
    },
    {
      "cell_type": "code",
      "source": [
        "# Testing 4\n",
        "img4 = read_image('/kaggle/input/myimage8/Screenshot 2023-12-19 011000.png')\n",
        "text = extract(img4)\n",
        "print('-->',text)"
      ],
      "metadata": {
        "execution": {
          "iopub.status.busy": "2023-12-19T03:51:21.797267Z",
          "iopub.execute_input": "2023-12-19T03:51:21.797667Z",
          "iopub.status.idle": "2023-12-19T03:51:31.348377Z",
          "shell.execute_reply.started": "2023-12-19T03:51:21.797637Z",
          "shell.execute_reply": "2023-12-19T03:51:31.347044Z"
        },
        "trusted": true,
        "id": "mK_LKk6KmrT9"
      },
      "outputs": [],
      "execution_count": null
    },
    {
      "cell_type": "markdown",
      "source": [
        "# 7) Conclusion\n",
        "*This OCR implementation combines low-level computer vision techniques with deep learning for character recognition. The functions provided can be customized or extended for specific use cases, making it a versatile tool for text extraction from images.*"
      ],
      "metadata": {
        "id": "CjHlajnfmrT-"
      }
    },
    {
      "cell_type": "markdown",
      "source": [
        "# END OF THE NOTEBOOK"
      ],
      "metadata": {
        "id": "8QZ9Uq-vmrT-"
      }
    }
  ]
}